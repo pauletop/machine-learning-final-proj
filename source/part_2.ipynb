{
 "cells": [
  {
   "cell_type": "markdown",
   "metadata": {},
   "source": [
    "#### Danh sách thành viên\n",
    "##### 1. Trần Văn Phát - 5210091?\n",
    "##### 2. Bùi Văn Thống - 52100???\n",
    "##### 3. Nguyễn Minh Phú - 52100920"
   ]
  },
  {
   "cell_type": "code",
   "execution_count": 6,
   "metadata": {},
   "outputs": [],
   "source": [
    "import numpy as np\n",
    "import pandas as pd\n",
    "import seaborn as sns\n",
    "import os\n",
    "import matplotlib.pyplot as plt\n",
    "import matplotlib.pyplot as plotter\n",
    "%matplotlib inline\n",
    "import warnings\n",
    "warnings.filterwarnings('ignore')"
   ]
  },
  {
   "cell_type": "code",
   "execution_count": 8,
   "metadata": {},
   "outputs": [],
   "source": [
    "from sklearn.model_selection import train_test_split"
   ]
  },
  {
   "cell_type": "code",
   "execution_count": 9,
   "metadata": {},
   "outputs": [],
   "source": [
    "df = pd.read_csv('./traffic.csv')"
   ]
  },
  {
   "cell_type": "code",
   "execution_count": 10,
   "metadata": {},
   "outputs": [
    {
     "data": {
      "text/html": [
       "<div>\n",
       "<style scoped>\n",
       "    .dataframe tbody tr th:only-of-type {\n",
       "        vertical-align: middle;\n",
       "    }\n",
       "\n",
       "    .dataframe tbody tr th {\n",
       "        vertical-align: top;\n",
       "    }\n",
       "\n",
       "    .dataframe thead th {\n",
       "        text-align: right;\n",
       "    }\n",
       "</style>\n",
       "<table border=\"1\" class=\"dataframe\">\n",
       "  <thead>\n",
       "    <tr style=\"text-align: right;\">\n",
       "      <th></th>\n",
       "      <th>Time</th>\n",
       "      <th>Date</th>\n",
       "      <th>Day of the week</th>\n",
       "      <th>CarCount</th>\n",
       "      <th>BikeCount</th>\n",
       "      <th>BusCount</th>\n",
       "      <th>TruckCount</th>\n",
       "      <th>Total</th>\n",
       "      <th>Traffic Situation</th>\n",
       "    </tr>\n",
       "  </thead>\n",
       "  <tbody>\n",
       "    <tr>\n",
       "      <th>0</th>\n",
       "      <td>12:00:00 AM</td>\n",
       "      <td>10</td>\n",
       "      <td>Tuesday</td>\n",
       "      <td>13</td>\n",
       "      <td>2</td>\n",
       "      <td>2</td>\n",
       "      <td>24</td>\n",
       "      <td>41</td>\n",
       "      <td>normal</td>\n",
       "    </tr>\n",
       "    <tr>\n",
       "      <th>1</th>\n",
       "      <td>12:15:00 AM</td>\n",
       "      <td>10</td>\n",
       "      <td>Tuesday</td>\n",
       "      <td>14</td>\n",
       "      <td>1</td>\n",
       "      <td>1</td>\n",
       "      <td>36</td>\n",
       "      <td>52</td>\n",
       "      <td>normal</td>\n",
       "    </tr>\n",
       "    <tr>\n",
       "      <th>2</th>\n",
       "      <td>12:30:00 AM</td>\n",
       "      <td>10</td>\n",
       "      <td>Tuesday</td>\n",
       "      <td>10</td>\n",
       "      <td>2</td>\n",
       "      <td>2</td>\n",
       "      <td>32</td>\n",
       "      <td>46</td>\n",
       "      <td>normal</td>\n",
       "    </tr>\n",
       "    <tr>\n",
       "      <th>3</th>\n",
       "      <td>12:45:00 AM</td>\n",
       "      <td>10</td>\n",
       "      <td>Tuesday</td>\n",
       "      <td>10</td>\n",
       "      <td>2</td>\n",
       "      <td>2</td>\n",
       "      <td>36</td>\n",
       "      <td>50</td>\n",
       "      <td>normal</td>\n",
       "    </tr>\n",
       "    <tr>\n",
       "      <th>4</th>\n",
       "      <td>1:00:00 AM</td>\n",
       "      <td>10</td>\n",
       "      <td>Tuesday</td>\n",
       "      <td>11</td>\n",
       "      <td>2</td>\n",
       "      <td>1</td>\n",
       "      <td>34</td>\n",
       "      <td>48</td>\n",
       "      <td>normal</td>\n",
       "    </tr>\n",
       "    <tr>\n",
       "      <th>...</th>\n",
       "      <td>...</td>\n",
       "      <td>...</td>\n",
       "      <td>...</td>\n",
       "      <td>...</td>\n",
       "      <td>...</td>\n",
       "      <td>...</td>\n",
       "      <td>...</td>\n",
       "      <td>...</td>\n",
       "      <td>...</td>\n",
       "    </tr>\n",
       "    <tr>\n",
       "      <th>5947</th>\n",
       "      <td>10:45:00 PM</td>\n",
       "      <td>9</td>\n",
       "      <td>Thursday</td>\n",
       "      <td>16</td>\n",
       "      <td>3</td>\n",
       "      <td>1</td>\n",
       "      <td>36</td>\n",
       "      <td>56</td>\n",
       "      <td>normal</td>\n",
       "    </tr>\n",
       "    <tr>\n",
       "      <th>5948</th>\n",
       "      <td>11:00:00 PM</td>\n",
       "      <td>9</td>\n",
       "      <td>Thursday</td>\n",
       "      <td>11</td>\n",
       "      <td>0</td>\n",
       "      <td>1</td>\n",
       "      <td>30</td>\n",
       "      <td>42</td>\n",
       "      <td>normal</td>\n",
       "    </tr>\n",
       "    <tr>\n",
       "      <th>5949</th>\n",
       "      <td>11:15:00 PM</td>\n",
       "      <td>9</td>\n",
       "      <td>Thursday</td>\n",
       "      <td>15</td>\n",
       "      <td>4</td>\n",
       "      <td>1</td>\n",
       "      <td>25</td>\n",
       "      <td>45</td>\n",
       "      <td>normal</td>\n",
       "    </tr>\n",
       "    <tr>\n",
       "      <th>5950</th>\n",
       "      <td>11:30:00 PM</td>\n",
       "      <td>9</td>\n",
       "      <td>Thursday</td>\n",
       "      <td>16</td>\n",
       "      <td>5</td>\n",
       "      <td>0</td>\n",
       "      <td>27</td>\n",
       "      <td>48</td>\n",
       "      <td>normal</td>\n",
       "    </tr>\n",
       "    <tr>\n",
       "      <th>5951</th>\n",
       "      <td>11:45:00 PM</td>\n",
       "      <td>9</td>\n",
       "      <td>Thursday</td>\n",
       "      <td>14</td>\n",
       "      <td>3</td>\n",
       "      <td>1</td>\n",
       "      <td>15</td>\n",
       "      <td>33</td>\n",
       "      <td>low</td>\n",
       "    </tr>\n",
       "  </tbody>\n",
       "</table>\n",
       "<p>5952 rows × 9 columns</p>\n",
       "</div>"
      ],
      "text/plain": [
       "             Time  Date Day of the week  CarCount  BikeCount  BusCount  \\\n",
       "0     12:00:00 AM    10         Tuesday        13          2         2   \n",
       "1     12:15:00 AM    10         Tuesday        14          1         1   \n",
       "2     12:30:00 AM    10         Tuesday        10          2         2   \n",
       "3     12:45:00 AM    10         Tuesday        10          2         2   \n",
       "4      1:00:00 AM    10         Tuesday        11          2         1   \n",
       "...           ...   ...             ...       ...        ...       ...   \n",
       "5947  10:45:00 PM     9        Thursday        16          3         1   \n",
       "5948  11:00:00 PM     9        Thursday        11          0         1   \n",
       "5949  11:15:00 PM     9        Thursday        15          4         1   \n",
       "5950  11:30:00 PM     9        Thursday        16          5         0   \n",
       "5951  11:45:00 PM     9        Thursday        14          3         1   \n",
       "\n",
       "      TruckCount  Total Traffic Situation  \n",
       "0             24     41            normal  \n",
       "1             36     52            normal  \n",
       "2             32     46            normal  \n",
       "3             36     50            normal  \n",
       "4             34     48            normal  \n",
       "...          ...    ...               ...  \n",
       "5947          36     56            normal  \n",
       "5948          30     42            normal  \n",
       "5949          25     45            normal  \n",
       "5950          27     48            normal  \n",
       "5951          15     33               low  \n",
       "\n",
       "[5952 rows x 9 columns]"
      ]
     },
     "execution_count": 10,
     "metadata": {},
     "output_type": "execute_result"
    }
   ],
   "source": [
    "df"
   ]
  },
  {
   "cell_type": "code",
   "execution_count": 11,
   "metadata": {},
   "outputs": [],
   "source": [
    "from collections import Counter"
   ]
  },
  {
   "cell_type": "markdown",
   "metadata": {},
   "source": [
    "Target của dataset này là \"Traffic Situation\" trong đó có 4 lớp"
   ]
  },
  {
   "cell_type": "code",
   "execution_count": 12,
   "metadata": {},
   "outputs": [
    {
     "data": {
      "text/plain": [
       "array(['heavy', 'high', 'low', 'normal'], dtype=object)"
      ]
     },
     "execution_count": 12,
     "metadata": {},
     "output_type": "execute_result"
    }
   ],
   "source": [
    "np.unique(df['Traffic Situation'].values)"
   ]
  },
  {
   "cell_type": "markdown",
   "metadata": {},
   "source": [
    "### Spliting dataset"
   ]
  },
  {
   "cell_type": "markdown",
   "metadata": {},
   "source": [
    "Tách thành tập train và test, để dành cho việc tách tập train thành 1 tập validation sau này"
   ]
  },
  {
   "cell_type": "code",
   "execution_count": 13,
   "metadata": {},
   "outputs": [],
   "source": [
    "Train, Test = train_test_split(df, test_size=0.25,random_state=2022)"
   ]
  },
  {
   "cell_type": "code",
   "execution_count": 14,
   "metadata": {},
   "outputs": [
    {
     "name": "stdout",
     "output_type": "stream",
     "text": [
      "Shape of train:  (4464, 9)\n",
      "Shape of test (1488, 9)\n"
     ]
    }
   ],
   "source": [
    "print(\"Shape of train: \", Train.shape)\n",
    "print(\"Shape of test\", Test.shape)"
   ]
  },
  {
   "cell_type": "markdown",
   "metadata": {},
   "source": [
    "### Preprocessing"
   ]
  },
  {
   "cell_type": "markdown",
   "metadata": {},
   "source": [
    "Biểu đồ dưới đây nhằm mục đích đánh số cho các feature và target thuộc categorical là \"Day of the week\" và \"Traffic Situation\" "
   ]
  },
  {
   "cell_type": "code",
   "execution_count": 15,
   "metadata": {},
   "outputs": [
    {
     "data": {
      "image/png": "[encoded data removed]",
      "text/plain": [
       "<Figure size 640x480 with 2 Axes>"
      ]
     },
     "metadata": {},
     "output_type": "display_data"
    }
   ],
   "source": [
    "plt.subplot(1, 3, 1)\n",
    "sns.countplot(x = Train[\"Day of the week\"])\n",
    "plotter.xticks(rotation = 90)\n",
    "plt.subplot(1, 3, 3)\n",
    "sns.countplot(x = Train[\"Traffic Situation\"])\n",
    "plotter.xticks(rotation = 90)\n",
    "plt.show()"
   ]
  },
  {
   "cell_type": "markdown",
   "metadata": {},
   "source": [
    "Trong dataset này 2 categorial features là \"Time\" và \"Day of the week\" và một target cũng có categorical.\\\n",
    "Thông thường với các categorical features dạng thứ thứ bậc ta có thể dùng OrdinalEncoder trong sklearn để thực hiện việc encode. \\\n",
    "OrdinalEncoder giúp ta có thể encode n categories trong 1 categorical feature thành các số nguyên từ 0 đến n - 1. \\\n",
    "Tuy nhiên, OrdinalEncoder encode các categories một cách ngẫu nhiên."
   ]
  },
  {
   "cell_type": "code",
   "execution_count": 16,
   "metadata": {},
   "outputs": [],
   "source": [
    "from sklearn.preprocessing import OrdinalEncoder"
   ]
  },
  {
   "cell_type": "code",
   "execution_count": 17,
   "metadata": {},
   "outputs": [
    {
     "name": "stdout",
     "output_type": "stream",
     "text": [
      "Category: Monday -> Encode [[1.]]\n",
      "Category: Tuesday -> Encode [[5.]]\n",
      "Category: Wednesday -> Encode [[6.]]\n",
      "Category: Thursday -> Encode [[4.]]\n",
      "Category: Friday -> Encode [[0.]]\n",
      "Category: Saturday -> Encode [[2.]]\n",
      "Category: Sunday -> Encode [[3.]]\n"
     ]
    }
   ],
   "source": [
    "tmpTrain = Train\n",
    "\n",
    "enc  = OrdinalEncoder()\n",
    "enc.fit_transform(np.array([tmpTrain['Day of the week']]).reshape(-1, 1))\n",
    "day_of_week = ['Monday', 'Tuesday', 'Wednesday', 'Thursday', 'Friday', 'Saturday', 'Sunday']\n",
    "for day in day_of_week :\n",
    "    print(f'Category: {day} -> Encode {enc.transform(np.array([[day]]).reshape(-1, 1))}')"
   ]
  },
  {
   "cell_type": "markdown",
   "metadata": {},
   "source": [
    "Vì mục tiêu là dự đoán chính xác, chúng tôi cài đặt thủ công về việc encode \"Day of the week\" thủ công. \\\n",
    "Tương tự đối với target \"Traffic Situation\", ta cũng có thể encode bằng LabelEncoder trong sklearn, tuy nhiên vẫn phải encode thủ công.\\\n",
    "Còn với feature \"Time\" ta có thể dùng OrdinalEncoder (hoặc LabelEncoder) để thực hiện encode."
   ]
  },
  {
   "cell_type": "code",
   "execution_count": 19,
   "metadata": {},
   "outputs": [],
   "source": [
    "day_of_week_enc = {\n",
    "    'Monday': 1,\n",
    "    'Tuesday': 2,\n",
    "    'Wednesday': 3,\n",
    "    'Thursday': 4,\n",
    "    'Friday': 5,\n",
    "    'Saturday': 6,\n",
    "    'Sunday': 7\n",
    "}\n",
    "\n",
    "traffic_sistuation = {\n",
    "    'low': 0,\n",
    "    'normal': 1,\n",
    "    'high': 2, \n",
    "    'heavy':3\n",
    "}"
   ]
  },
  {
   "cell_type": "code",
   "execution_count": 20,
   "metadata": {},
   "outputs": [],
   "source": [
    "enc = OrdinalEncoder()\n",
    "\n",
    "df_temp_Train = Train\n",
    "df_temp_Test = Test\n",
    "\n",
    "df_temp_Train['Day of the week'] = df_temp_Train['Day of the week'].replace(day_of_week_enc)\n",
    "df_temp_Train['Time'] =  enc.fit_transform(np.array([df_temp_Train['Time']]).reshape(-1, 1)).reshape(-1)\n",
    "df_temp_Train['Traffic Situation'] = df_temp_Train['Traffic Situation'].replace(traffic_sistuation)\n",
    "\n",
    "df_temp_Test['Day of the week'] = df_temp_Test['Day of the week'].replace(day_of_week_enc)\n",
    "df_temp_Test['Time'] =  enc.transform(np.array([df_temp_Test['Time']]).reshape(-1, 1)).reshape(-1)\n",
    "df_temp_Test['Traffic Situation'] = df_temp_Test['Traffic Situation'].replace(traffic_sistuation)\n",
    "\n",
    "Train = df_temp_Train\n",
    "Test = df_temp_Test"
   ]
  },
  {
   "cell_type": "code",
   "execution_count": 21,
   "metadata": {},
   "outputs": [
    {
     "data": {
      "text/html": [
       "<div>\n",
       "<style scoped>\n",
       "    .dataframe tbody tr th:only-of-type {\n",
       "        vertical-align: middle;\n",
       "    }\n",
       "\n",
       "    .dataframe tbody tr th {\n",
       "        vertical-align: top;\n",
       "    }\n",
       "\n",
       "    .dataframe thead th {\n",
       "        text-align: right;\n",
       "    }\n",
       "</style>\n",
       "<table border=\"1\" class=\"dataframe\">\n",
       "  <thead>\n",
       "    <tr style=\"text-align: right;\">\n",
       "      <th></th>\n",
       "      <th>Time</th>\n",
       "      <th>Date</th>\n",
       "      <th>Day of the week</th>\n",
       "      <th>CarCount</th>\n",
       "      <th>BikeCount</th>\n",
       "      <th>BusCount</th>\n",
       "      <th>TruckCount</th>\n",
       "      <th>Total</th>\n",
       "      <th>Traffic Situation</th>\n",
       "    </tr>\n",
       "  </thead>\n",
       "  <tbody>\n",
       "    <tr>\n",
       "      <th>5703</th>\n",
       "      <td>94.0</td>\n",
       "      <td>7</td>\n",
       "      <td>2</td>\n",
       "      <td>31</td>\n",
       "      <td>10</td>\n",
       "      <td>40</td>\n",
       "      <td>9</td>\n",
       "      <td>90</td>\n",
       "      <td>1</td>\n",
       "    </tr>\n",
       "    <tr>\n",
       "      <th>521</th>\n",
       "      <td>2.0</td>\n",
       "      <td>15</td>\n",
       "      <td>7</td>\n",
       "      <td>46</td>\n",
       "      <td>5</td>\n",
       "      <td>11</td>\n",
       "      <td>13</td>\n",
       "      <td>75</td>\n",
       "      <td>0</td>\n",
       "    </tr>\n",
       "    <tr>\n",
       "      <th>2013</th>\n",
       "      <td>11.0</td>\n",
       "      <td>30</td>\n",
       "      <td>1</td>\n",
       "      <td>9</td>\n",
       "      <td>1</td>\n",
       "      <td>0</td>\n",
       "      <td>31</td>\n",
       "      <td>41</td>\n",
       "      <td>1</td>\n",
       "    </tr>\n",
       "    <tr>\n",
       "      <th>4808</th>\n",
       "      <td>32.0</td>\n",
       "      <td>29</td>\n",
       "      <td>7</td>\n",
       "      <td>18</td>\n",
       "      <td>4</td>\n",
       "      <td>1</td>\n",
       "      <td>31</td>\n",
       "      <td>54</td>\n",
       "      <td>1</td>\n",
       "    </tr>\n",
       "    <tr>\n",
       "      <th>5637</th>\n",
       "      <td>59.0</td>\n",
       "      <td>6</td>\n",
       "      <td>1</td>\n",
       "      <td>119</td>\n",
       "      <td>28</td>\n",
       "      <td>46</td>\n",
       "      <td>9</td>\n",
       "      <td>202</td>\n",
       "      <td>3</td>\n",
       "    </tr>\n",
       "    <tr>\n",
       "      <th>...</th>\n",
       "      <td>...</td>\n",
       "      <td>...</td>\n",
       "      <td>...</td>\n",
       "      <td>...</td>\n",
       "      <td>...</td>\n",
       "      <td>...</td>\n",
       "      <td>...</td>\n",
       "      <td>...</td>\n",
       "      <td>...</td>\n",
       "    </tr>\n",
       "    <tr>\n",
       "      <th>5809</th>\n",
       "      <td>19.0</td>\n",
       "      <td>8</td>\n",
       "      <td>3</td>\n",
       "      <td>69</td>\n",
       "      <td>10</td>\n",
       "      <td>4</td>\n",
       "      <td>24</td>\n",
       "      <td>107</td>\n",
       "      <td>1</td>\n",
       "    </tr>\n",
       "    <tr>\n",
       "      <th>4720</th>\n",
       "      <td>48.0</td>\n",
       "      <td>28</td>\n",
       "      <td>6</td>\n",
       "      <td>18</td>\n",
       "      <td>3</td>\n",
       "      <td>0</td>\n",
       "      <td>17</td>\n",
       "      <td>38</td>\n",
       "      <td>0</td>\n",
       "    </tr>\n",
       "    <tr>\n",
       "      <th>173</th>\n",
       "      <td>75.0</td>\n",
       "      <td>11</td>\n",
       "      <td>3</td>\n",
       "      <td>72</td>\n",
       "      <td>1</td>\n",
       "      <td>9</td>\n",
       "      <td>32</td>\n",
       "      <td>114</td>\n",
       "      <td>2</td>\n",
       "    </tr>\n",
       "    <tr>\n",
       "      <th>1244</th>\n",
       "      <td>9.0</td>\n",
       "      <td>22</td>\n",
       "      <td>7</td>\n",
       "      <td>8</td>\n",
       "      <td>1</td>\n",
       "      <td>1</td>\n",
       "      <td>22</td>\n",
       "      <td>32</td>\n",
       "      <td>1</td>\n",
       "    </tr>\n",
       "    <tr>\n",
       "      <th>4989</th>\n",
       "      <td>11.0</td>\n",
       "      <td>30</td>\n",
       "      <td>1</td>\n",
       "      <td>14</td>\n",
       "      <td>1</td>\n",
       "      <td>0</td>\n",
       "      <td>27</td>\n",
       "      <td>42</td>\n",
       "      <td>1</td>\n",
       "    </tr>\n",
       "  </tbody>\n",
       "</table>\n",
       "<p>4464 rows × 9 columns</p>\n",
       "</div>"
      ],
      "text/plain": [
       "      Time  Date  Day of the week  CarCount  BikeCount  BusCount  TruckCount  \\\n",
       "5703  94.0     7                2        31         10        40           9   \n",
       "521    2.0    15                7        46          5        11          13   \n",
       "2013  11.0    30                1         9          1         0          31   \n",
       "4808  32.0    29                7        18          4         1          31   \n",
       "5637  59.0     6                1       119         28        46           9   \n",
       "...    ...   ...              ...       ...        ...       ...         ...   \n",
       "5809  19.0     8                3        69         10         4          24   \n",
       "4720  48.0    28                6        18          3         0          17   \n",
       "173   75.0    11                3        72          1         9          32   \n",
       "1244   9.0    22                7         8          1         1          22   \n",
       "4989  11.0    30                1        14          1         0          27   \n",
       "\n",
       "      Total  Traffic Situation  \n",
       "5703     90                  1  \n",
       "521      75                  0  \n",
       "2013     41                  1  \n",
       "4808     54                  1  \n",
       "5637    202                  3  \n",
       "...     ...                ...  \n",
       "5809    107                  1  \n",
       "4720     38                  0  \n",
       "173     114                  2  \n",
       "1244     32                  1  \n",
       "4989     42                  1  \n",
       "\n",
       "[4464 rows x 9 columns]"
      ]
     },
     "execution_count": 21,
     "metadata": {},
     "output_type": "execute_result"
    }
   ],
   "source": [
    "Train"
   ]
  },
  {
   "cell_type": "markdown",
   "metadata": {},
   "source": [
    "Sau khi đã thực hiện việc encode các categorical features. Bước tiếp theo là scale data về một khoảng nào đó để dễ tính toán.\\\n",
    "Chúng tôi, xin sử dụng StandardScaler trong sklearn đễ thực hiện.\\\n",
    "Đầu tiên cần tách thêm một lần nữa 2 tập Train, Test thành X_Train, y_train, X_test, y_test."
   ]
  },
  {
   "cell_type": "code",
   "execution_count": 22,
   "metadata": {},
   "outputs": [],
   "source": [
    "X_train = Train.drop(['Traffic Situation'], axis=1).values\n",
    "y_train = Train['Traffic Situation'].values\n",
    "\n",
    "X_test = Test.drop(['Traffic Situation'], axis=1).values\n",
    "y_test = Test['Traffic Situation'].values"
   ]
  },
  {
   "cell_type": "code",
   "execution_count": 23,
   "metadata": {},
   "outputs": [
    {
     "name": "stdout",
     "output_type": "stream",
     "text": [
      "X_train:\n",
      "[[ 94.   7.   2. ...  40.   9.  90.]\n",
      " [  2.  15.   7. ...  11.  13.  75.]\n",
      " [ 11.  30.   1. ...   0.  31.  41.]\n",
      " ...\n",
      " [ 75.  11.   3. ...   9.  32. 114.]\n",
      " [  9.  22.   7. ...   1.  22.  32.]\n",
      " [ 11.  30.   1. ...   0.  27.  42.]]\n",
      "================================================================\n",
      "y_train:\n",
      "[1 0 1 ... 2 1 1]\n",
      "================================================================\n",
      "X_test:\n",
      "[[ 85.  28.   6. ...  15.  32. 129.]\n",
      " [ 17.  22.   7. ...   1.  26.  91.]\n",
      " [ 69.   7.   2. ...  11.  32. 108.]\n",
      " ...\n",
      " [ 95.  29.   7. ...   2.  29.  38.]\n",
      " [ 57.  16.   1. ...  33.  13. 184.]\n",
      " [  2.  20.   5. ...  16.  10. 153.]]\n",
      "================================================================\n",
      "y_test:\n",
      "[2 1 1 ... 1 3 1]\n",
      "================================================================\n"
     ]
    }
   ],
   "source": [
    "print('X_train:')\n",
    "print(X_train)\n",
    "print('='*64)\n",
    "\n",
    "print('y_train:')\n",
    "print(y_train)\n",
    "print('='*64)\n",
    "\n",
    "print('X_test:')\n",
    "print(X_test)\n",
    "print('='*64)\n",
    "\n",
    "print('y_test:')\n",
    "print(y_test)\n",
    "print('='*64)"
   ]
  },
  {
   "cell_type": "markdown",
   "metadata": {},
   "source": [
    "Tiếp theo đây sẽ scale các tập X."
   ]
  },
  {
   "cell_type": "code",
   "execution_count": 24,
   "metadata": {},
   "outputs": [],
   "source": [
    "from sklearn.preprocessing import StandardScaler"
   ]
  },
  {
   "cell_type": "code",
   "execution_count": 26,
   "metadata": {},
   "outputs": [],
   "source": [
    "scaler = StandardScaler()\n",
    "X_train = scaler.fit_transform(X_train)\n",
    "X_test = scaler.transform(X_test)"
   ]
  },
  {
   "cell_type": "code",
   "execution_count": 27,
   "metadata": {},
   "outputs": [
    {
     "data": {
      "text/html": [
       "<div>\n",
       "<style scoped>\n",
       "    .dataframe tbody tr th:only-of-type {\n",
       "        vertical-align: middle;\n",
       "    }\n",
       "\n",
       "    .dataframe tbody tr th {\n",
       "        vertical-align: top;\n",
       "    }\n",
       "\n",
       "    .dataframe thead th {\n",
       "        text-align: right;\n",
       "    }\n",
       "</style>\n",
       "<table border=\"1\" class=\"dataframe\">\n",
       "  <thead>\n",
       "    <tr style=\"text-align: right;\">\n",
       "      <th></th>\n",
       "      <th>0</th>\n",
       "      <th>1</th>\n",
       "      <th>2</th>\n",
       "      <th>3</th>\n",
       "      <th>4</th>\n",
       "      <th>5</th>\n",
       "      <th>6</th>\n",
       "      <th>7</th>\n",
       "    </tr>\n",
       "  </thead>\n",
       "  <tbody>\n",
       "    <tr>\n",
       "      <th>0</th>\n",
       "      <td>1.690340</td>\n",
       "      <td>-1.001728</td>\n",
       "      <td>-0.981514</td>\n",
       "      <td>-0.775747</td>\n",
       "      <td>-0.191491</td>\n",
       "      <td>2.178304</td>\n",
       "      <td>-0.881356</td>\n",
       "      <td>-0.347881</td>\n",
       "    </tr>\n",
       "    <tr>\n",
       "      <th>1</th>\n",
       "      <td>-1.647204</td>\n",
       "      <td>-0.106490</td>\n",
       "      <td>1.603734</td>\n",
       "      <td>-0.440935</td>\n",
       "      <td>-0.628289</td>\n",
       "      <td>-0.152152</td>\n",
       "      <td>-0.514344</td>\n",
       "      <td>-0.616231</td>\n",
       "    </tr>\n",
       "    <tr>\n",
       "      <th>2</th>\n",
       "      <td>-1.320705</td>\n",
       "      <td>1.572081</td>\n",
       "      <td>-1.498563</td>\n",
       "      <td>-1.266804</td>\n",
       "      <td>-0.977727</td>\n",
       "      <td>-1.036118</td>\n",
       "      <td>1.137213</td>\n",
       "      <td>-1.224491</td>\n",
       "    </tr>\n",
       "    <tr>\n",
       "      <th>3</th>\n",
       "      <td>-0.558874</td>\n",
       "      <td>1.460176</td>\n",
       "      <td>1.603734</td>\n",
       "      <td>-1.065917</td>\n",
       "      <td>-0.715648</td>\n",
       "      <td>-0.955758</td>\n",
       "      <td>1.137213</td>\n",
       "      <td>-0.991921</td>\n",
       "    </tr>\n",
       "    <tr>\n",
       "      <th>4</th>\n",
       "      <td>0.420622</td>\n",
       "      <td>-1.113633</td>\n",
       "      <td>-1.498563</td>\n",
       "      <td>1.188481</td>\n",
       "      <td>1.380983</td>\n",
       "      <td>2.660467</td>\n",
       "      <td>-0.881356</td>\n",
       "      <td>1.655799</td>\n",
       "    </tr>\n",
       "    <tr>\n",
       "      <th>...</th>\n",
       "      <td>...</td>\n",
       "      <td>...</td>\n",
       "      <td>...</td>\n",
       "      <td>...</td>\n",
       "      <td>...</td>\n",
       "      <td>...</td>\n",
       "      <td>...</td>\n",
       "      <td>...</td>\n",
       "    </tr>\n",
       "    <tr>\n",
       "      <th>4459</th>\n",
       "      <td>-1.030484</td>\n",
       "      <td>-0.889823</td>\n",
       "      <td>-0.464464</td>\n",
       "      <td>0.072443</td>\n",
       "      <td>-0.191491</td>\n",
       "      <td>-0.714676</td>\n",
       "      <td>0.494941</td>\n",
       "      <td>-0.043751</td>\n",
       "    </tr>\n",
       "    <tr>\n",
       "      <th>4460</th>\n",
       "      <td>0.021568</td>\n",
       "      <td>1.348271</td>\n",
       "      <td>1.086684</td>\n",
       "      <td>-1.065917</td>\n",
       "      <td>-0.803008</td>\n",
       "      <td>-1.036118</td>\n",
       "      <td>-0.147331</td>\n",
       "      <td>-1.278161</td>\n",
       "    </tr>\n",
       "    <tr>\n",
       "      <th>4461</th>\n",
       "      <td>1.001065</td>\n",
       "      <td>-0.554109</td>\n",
       "      <td>-0.464464</td>\n",
       "      <td>0.139405</td>\n",
       "      <td>-0.977727</td>\n",
       "      <td>-0.312873</td>\n",
       "      <td>1.228966</td>\n",
       "      <td>0.081479</td>\n",
       "    </tr>\n",
       "    <tr>\n",
       "      <th>4462</th>\n",
       "      <td>-1.393260</td>\n",
       "      <td>0.676843</td>\n",
       "      <td>1.603734</td>\n",
       "      <td>-1.289125</td>\n",
       "      <td>-0.977727</td>\n",
       "      <td>-0.955758</td>\n",
       "      <td>0.311434</td>\n",
       "      <td>-1.385501</td>\n",
       "    </tr>\n",
       "    <tr>\n",
       "      <th>4463</th>\n",
       "      <td>-1.320705</td>\n",
       "      <td>1.572081</td>\n",
       "      <td>-1.498563</td>\n",
       "      <td>-1.155200</td>\n",
       "      <td>-0.977727</td>\n",
       "      <td>-1.036118</td>\n",
       "      <td>0.770200</td>\n",
       "      <td>-1.206601</td>\n",
       "    </tr>\n",
       "  </tbody>\n",
       "</table>\n",
       "<p>4464 rows × 8 columns</p>\n",
       "</div>"
      ],
      "text/plain": [
       "             0         1         2         3         4         5         6  \\\n",
       "0     1.690340 -1.001728 -0.981514 -0.775747 -0.191491  2.178304 -0.881356   \n",
       "1    -1.647204 -0.106490  1.603734 -0.440935 -0.628289 -0.152152 -0.514344   \n",
       "2    -1.320705  1.572081 -1.498563 -1.266804 -0.977727 -1.036118  1.137213   \n",
       "3    -0.558874  1.460176  1.603734 -1.065917 -0.715648 -0.955758  1.137213   \n",
       "4     0.420622 -1.113633 -1.498563  1.188481  1.380983  2.660467 -0.881356   \n",
       "...        ...       ...       ...       ...       ...       ...       ...   \n",
       "4459 -1.030484 -0.889823 -0.464464  0.072443 -0.191491 -0.714676  0.494941   \n",
       "4460  0.021568  1.348271  1.086684 -1.065917 -0.803008 -1.036118 -0.147331   \n",
       "4461  1.001065 -0.554109 -0.464464  0.139405 -0.977727 -0.312873  1.228966   \n",
       "4462 -1.393260  0.676843  1.603734 -1.289125 -0.977727 -0.955758  0.311434   \n",
       "4463 -1.320705  1.572081 -1.498563 -1.155200 -0.977727 -1.036118  0.770200   \n",
       "\n",
       "             7  \n",
       "0    -0.347881  \n",
       "1    -0.616231  \n",
       "2    -1.224491  \n",
       "3    -0.991921  \n",
       "4     1.655799  \n",
       "...        ...  \n",
       "4459 -0.043751  \n",
       "4460 -1.278161  \n",
       "4461  0.081479  \n",
       "4462 -1.385501  \n",
       "4463 -1.206601  \n",
       "\n",
       "[4464 rows x 8 columns]"
      ]
     },
     "execution_count": 27,
     "metadata": {},
     "output_type": "execute_result"
    }
   ],
   "source": [
    "pd.DataFrame(X_train)"
   ]
  },
  {
   "cell_type": "markdown",
   "metadata": {},
   "source": [
    "### Sử dụng các models học máy cơ bản"
   ]
  },
  {
   "cell_type": "markdown",
   "metadata": {},
   "source": [
    "Vì vấn đề trong bài toán này là Classification, nên chúng tôi sẽ sử dụng các mô hình học máy giải quyết về vấn đề classification."
   ]
  },
  {
   "cell_type": "code",
   "execution_count": 28,
   "metadata": {},
   "outputs": [],
   "source": [
    "from sklearn.neighbors import KNeighborsClassifier\n",
    "from sklearn.naive_bayes import GaussianNB\n",
    "from sklearn.ensemble import RandomForestClassifier\n",
    "from sklearn.linear_model import LogisticRegression\n",
    "from sklearn.ensemble import AdaBoostClassifier, GradientBoostingClassifier, BaggingClassifier\n",
    "from sklearn.svm import SVC"
   ]
  },
  {
   "cell_type": "markdown",
   "metadata": {},
   "source": [
    "Chúng tôi cũng sử dụng classification_report để đáng giá các model"
   ]
  },
  {
   "cell_type": "code",
   "execution_count": 29,
   "metadata": {},
   "outputs": [],
   "source": [
    "from sklearn.metrics import classification_report"
   ]
  },
  {
   "cell_type": "markdown",
   "metadata": {},
   "source": [
    "Để đảm bảo tính công bằng các model sẽ không được cài đặt (configure) các tham số mà chỉ để các tham số ở mặc định"
   ]
  },
  {
   "cell_type": "code",
   "execution_count": 30,
   "metadata": {},
   "outputs": [],
   "source": [
    "clfs = [\n",
    "    KNeighborsClassifier(), \n",
    "    LogisticRegression(), \n",
    "    GaussianNB(), \n",
    "    RandomForestClassifier(), \n",
    "    AdaBoostClassifier(), \n",
    "    GradientBoostingClassifier(), \n",
    "    BaggingClassifier(), \n",
    "    SVC()\n",
    "]"
   ]
  },
  {
   "cell_type": "code",
   "execution_count": 31,
   "metadata": {},
   "outputs": [
    {
     "name": "stdout",
     "output_type": "stream",
     "text": [
      "KNeighborsClassifier()\n",
      "              precision    recall  f1-score   support\n",
      "\n",
      "           0       0.92      0.86      0.89       219\n",
      "           1       0.90      0.96      0.93       874\n",
      "           2       0.76      0.49      0.60       110\n",
      "           3       0.93      0.93      0.93       285\n",
      "\n",
      "    accuracy                           0.90      1488\n",
      "   macro avg       0.88      0.81      0.84      1488\n",
      "weighted avg       0.90      0.90      0.90      1488\n",
      "\n",
      "================================================================\n",
      "LogisticRegression()\n",
      "              precision    recall  f1-score   support\n",
      "\n",
      "           0       0.84      0.74      0.78       219\n",
      "           1       0.87      0.94      0.91       874\n",
      "           2       0.77      0.40      0.53       110\n",
      "           3       0.96      0.98      0.97       285\n",
      "\n",
      "    accuracy                           0.88      1488\n",
      "   macro avg       0.86      0.77      0.80      1488\n",
      "weighted avg       0.88      0.88      0.87      1488\n",
      "\n",
      "================================================================\n",
      "GaussianNB()\n",
      "              precision    recall  f1-score   support\n",
      "\n",
      "           0       1.00      0.68      0.81       219\n",
      "           1       0.87      0.82      0.84       874\n",
      "           2       0.33      0.56      0.42       110\n",
      "           3       0.87      0.99      0.93       285\n",
      "\n",
      "    accuracy                           0.81      1488\n",
      "   macro avg       0.77      0.76      0.75      1488\n",
      "weighted avg       0.85      0.81      0.82      1488\n",
      "\n",
      "================================================================\n",
      "RandomForestClassifier()\n",
      "              precision    recall  f1-score   support\n",
      "\n",
      "           0       1.00      1.00      1.00       219\n",
      "           1       1.00      1.00      1.00       874\n",
      "           2       0.99      0.98      0.99       110\n",
      "           3       1.00      1.00      1.00       285\n",
      "\n",
      "    accuracy                           1.00      1488\n",
      "   macro avg       1.00      0.99      1.00      1488\n",
      "weighted avg       1.00      1.00      1.00      1488\n",
      "\n",
      "================================================================\n",
      "AdaBoostClassifier()\n",
      "              precision    recall  f1-score   support\n",
      "\n",
      "           0       0.00      0.00      0.00       219\n",
      "           1       0.76      1.00      0.87       874\n",
      "           2       1.00      0.53      0.69       110\n",
      "           3       1.00      1.00      1.00       285\n",
      "\n",
      "    accuracy                           0.82      1488\n",
      "   macro avg       0.69      0.63      0.64      1488\n",
      "weighted avg       0.71      0.82      0.75      1488\n",
      "\n",
      "================================================================\n",
      "GradientBoostingClassifier()\n",
      "              precision    recall  f1-score   support\n",
      "\n",
      "           0       1.00      1.00      1.00       219\n",
      "           1       1.00      1.00      1.00       874\n",
      "           2       1.00      1.00      1.00       110\n",
      "           3       1.00      1.00      1.00       285\n",
      "\n",
      "    accuracy                           1.00      1488\n",
      "   macro avg       1.00      1.00      1.00      1488\n",
      "weighted avg       1.00      1.00      1.00      1488\n",
      "\n",
      "================================================================\n",
      "BaggingClassifier()\n",
      "              precision    recall  f1-score   support\n",
      "\n",
      "           0       1.00      1.00      1.00       219\n",
      "           1       1.00      1.00      1.00       874\n",
      "           2       1.00      0.99      1.00       110\n",
      "           3       1.00      1.00      1.00       285\n",
      "\n",
      "    accuracy                           1.00      1488\n",
      "   macro avg       1.00      1.00      1.00      1488\n",
      "weighted avg       1.00      1.00      1.00      1488\n",
      "\n",
      "================================================================\n",
      "SVC()\n",
      "              precision    recall  f1-score   support\n",
      "\n",
      "           0       0.96      0.89      0.92       219\n",
      "           1       0.94      0.97      0.95       874\n",
      "           2       0.90      0.65      0.76       110\n",
      "           3       0.95      0.99      0.97       285\n",
      "\n",
      "    accuracy                           0.94      1488\n",
      "   macro avg       0.94      0.88      0.90      1488\n",
      "weighted avg       0.94      0.94      0.94      1488\n",
      "\n",
      "================================================================\n"
     ]
    }
   ],
   "source": [
    "for clf in clfs:\n",
    "    clf.fit(X_train, y_train)\n",
    "    y_pred = clf.predict(X_test)\n",
    "    print(clf)\n",
    "    print(classification_report(y_test, y_pred))\n",
    "    print('='*64)"
   ]
  },
  {
   "cell_type": "markdown",
   "metadata": {},
   "source": [
    "Các mô hình Học Máy cơ bản có tỉ lệ dự đoán đúng cao, ví dụ như ở chỉ số accurancy của các mô hình luôn nằm trong khoảng từ 0.8 đến 1.0.\\\n",
    "Trong đó các mô hình dự đoán cao nhất có accuracy là 1.0 là Random Forest Classifier, Gradient Boosting Classifier, Bagging Classifier.\\\n",
    "Tiếp theo hãy thực nghiệm dữ liệu với Feed Forward Neural Network và Recurrent Neural Network."
   ]
  },
  {
   "cell_type": "markdown",
   "metadata": {},
   "source": [
    "### Sử dụng Feed Forward Neural Network và Recurrent Neural Network"
   ]
  },
  {
   "cell_type": "markdown",
   "metadata": {},
   "source": [
    "#### Feed Forward Neural Network (FFNN)"
   ]
  },
  {
   "cell_type": "code",
   "execution_count": 32,
   "metadata": {},
   "outputs": [],
   "source": [
    "import tensorflow as tf\n",
    "import keras\n",
    "from keras import layers"
   ]
  },
  {
   "cell_type": "code",
   "execution_count": 39,
   "metadata": {},
   "outputs": [],
   "source": [
    "model = keras.models.Sequential([\n",
    "    layers.Dense(16, activation='relu'),\n",
    "    layers.Dense(32, activation='relu'),\n",
    "    layers.Dense(4, activation='softmax') # target có 4 classes\n",
    "])\n",
    "\n",
    "model.compile(optimizer='adam', loss='categorical_crossentropy', metrics=['accuracy'])"
   ]
  },
  {
   "cell_type": "markdown",
   "metadata": {},
   "source": [
    "Vì vấn đề là classification, và output layer có activation là softmax, nên target cần phải encode theo onehot (có thể dùng dummy, hoặc to_categorial của keras.utils).\\\n",
    "Ở đây chúng tôi xin sử dụng to_categorical trong keras.utils."
   ]
  },
  {
   "cell_type": "code",
   "execution_count": 100,
   "metadata": {},
   "outputs": [],
   "source": [
    "import copy\n",
    "from keras.utils import to_categorical\n",
    "y_train_tmp = copy.copy(y_train)\n",
    "y_train_tmp = to_categorical(y_train_tmp)\n",
    "y_train_onehot = y_train_tmp"
   ]
  },
  {
   "cell_type": "markdown",
   "metadata": {},
   "source": [
    "Training FFNN"
   ]
  },
  {
   "cell_type": "code",
   "execution_count": 108,
   "metadata": {},
   "outputs": [
    {
     "name": "stdout",
     "output_type": "stream",
     "text": [
      "Epoch 1/200\n"
     ]
    },
    {
     "name": "stdout",
     "output_type": "stream",
     "text": [
      "45/45 - 1s - loss: 1.2180 - accuracy: 0.4745 - 750ms/epoch - 17ms/step\n",
      "Epoch 2/200\n",
      "45/45 - 0s - loss: 0.8371 - accuracy: 0.7222 - 59ms/epoch - 1ms/step\n",
      "Epoch 3/200\n",
      "45/45 - 0s - loss: 0.6985 - accuracy: 0.7386 - 58ms/epoch - 1ms/step\n",
      "Epoch 4/200\n",
      "45/45 - 0s - loss: 0.6101 - accuracy: 0.7601 - 57ms/epoch - 1ms/step\n",
      "Epoch 5/200\n",
      "45/45 - 0s - loss: 0.5309 - accuracy: 0.8017 - 60ms/epoch - 1ms/step\n",
      "Epoch 6/200\n",
      "45/45 - 0s - loss: 0.4597 - accuracy: 0.8495 - 57ms/epoch - 1ms/step\n",
      "Epoch 7/200\n",
      "45/45 - 0s - loss: 0.4010 - accuracy: 0.8658 - 62ms/epoch - 1ms/step\n",
      "Epoch 8/200\n",
      "45/45 - 0s - loss: 0.3538 - accuracy: 0.8757 - 57ms/epoch - 1ms/step\n",
      "Epoch 9/200\n",
      "45/45 - 0s - loss: 0.3193 - accuracy: 0.8864 - 57ms/epoch - 1ms/step\n",
      "Epoch 10/200\n",
      "45/45 - 0s - loss: 0.2945 - accuracy: 0.8905 - 54ms/epoch - 1ms/step\n",
      "Epoch 11/200\n",
      "45/45 - 0s - loss: 0.2738 - accuracy: 0.8967 - 61ms/epoch - 1ms/step\n",
      "Epoch 12/200\n",
      "45/45 - 0s - loss: 0.2588 - accuracy: 0.9021 - 67ms/epoch - 1ms/step\n",
      "Epoch 13/200\n",
      "45/45 - 0s - loss: 0.2462 - accuracy: 0.9070 - 75ms/epoch - 2ms/step\n",
      "Epoch 14/200\n",
      "45/45 - 0s - loss: 0.2353 - accuracy: 0.9144 - 75ms/epoch - 2ms/step\n",
      "Epoch 15/200\n",
      "45/45 - 0s - loss: 0.2267 - accuracy: 0.9160 - 77ms/epoch - 2ms/step\n",
      "Epoch 16/200\n",
      "45/45 - 0s - loss: 0.2186 - accuracy: 0.9180 - 75ms/epoch - 2ms/step\n",
      "Epoch 17/200\n",
      "45/45 - 0s - loss: 0.2121 - accuracy: 0.9198 - 61ms/epoch - 1ms/step\n",
      "Epoch 18/200\n",
      "45/45 - 0s - loss: 0.2062 - accuracy: 0.9241 - 59ms/epoch - 1ms/step\n",
      "Epoch 19/200\n",
      "45/45 - 0s - loss: 0.2009 - accuracy: 0.9265 - 63ms/epoch - 1ms/step\n",
      "Epoch 20/200\n",
      "45/45 - 0s - loss: 0.1945 - accuracy: 0.9306 - 61ms/epoch - 1ms/step\n",
      "Epoch 21/200\n",
      "45/45 - 0s - loss: 0.1905 - accuracy: 0.9306 - 59ms/epoch - 1ms/step\n",
      "Epoch 22/200\n",
      "45/45 - 0s - loss: 0.1849 - accuracy: 0.9339 - 61ms/epoch - 1ms/step\n",
      "Epoch 23/200\n",
      "45/45 - 0s - loss: 0.1802 - accuracy: 0.9384 - 65ms/epoch - 1ms/step\n",
      "Epoch 24/200\n",
      "45/45 - 0s - loss: 0.1773 - accuracy: 0.9411 - 68ms/epoch - 2ms/step\n",
      "Epoch 25/200\n",
      "45/45 - 0s - loss: 0.1732 - accuracy: 0.9386 - 57ms/epoch - 1ms/step\n",
      "Epoch 26/200\n",
      "45/45 - 0s - loss: 0.1706 - accuracy: 0.9386 - 61ms/epoch - 1ms/step\n",
      "Epoch 27/200\n",
      "45/45 - 0s - loss: 0.1662 - accuracy: 0.9431 - 61ms/epoch - 1ms/step\n",
      "Epoch 28/200\n",
      "45/45 - 0s - loss: 0.1631 - accuracy: 0.9431 - 62ms/epoch - 1ms/step\n",
      "Epoch 29/200\n",
      "45/45 - 0s - loss: 0.1601 - accuracy: 0.9458 - 58ms/epoch - 1ms/step\n",
      "Epoch 30/200\n",
      "45/45 - 0s - loss: 0.1568 - accuracy: 0.9483 - 71ms/epoch - 2ms/step\n",
      "Epoch 31/200\n",
      "45/45 - 0s - loss: 0.1542 - accuracy: 0.9498 - 66ms/epoch - 1ms/step\n",
      "Epoch 32/200\n",
      "45/45 - 0s - loss: 0.1510 - accuracy: 0.9498 - 65ms/epoch - 1ms/step\n",
      "Epoch 33/200\n",
      "45/45 - 0s - loss: 0.1482 - accuracy: 0.9521 - 66ms/epoch - 1ms/step\n",
      "Epoch 34/200\n",
      "45/45 - 0s - loss: 0.1453 - accuracy: 0.9539 - 66ms/epoch - 1ms/step\n",
      "Epoch 35/200\n",
      "45/45 - 0s - loss: 0.1429 - accuracy: 0.9547 - 67ms/epoch - 1ms/step\n",
      "Epoch 36/200\n",
      "45/45 - 0s - loss: 0.1413 - accuracy: 0.9565 - 66ms/epoch - 1ms/step\n",
      "Epoch 37/200\n",
      "45/45 - 0s - loss: 0.1390 - accuracy: 0.9565 - 71ms/epoch - 2ms/step\n",
      "Epoch 38/200\n",
      "45/45 - 0s - loss: 0.1354 - accuracy: 0.9601 - 67ms/epoch - 1ms/step\n",
      "Epoch 39/200\n",
      "45/45 - 0s - loss: 0.1328 - accuracy: 0.9603 - 65ms/epoch - 1ms/step\n",
      "Epoch 40/200\n",
      "45/45 - 0s - loss: 0.1310 - accuracy: 0.9597 - 73ms/epoch - 2ms/step\n",
      "Epoch 41/200\n",
      "45/45 - 0s - loss: 0.1292 - accuracy: 0.9599 - 67ms/epoch - 1ms/step\n",
      "Epoch 42/200\n",
      "45/45 - 0s - loss: 0.1271 - accuracy: 0.9628 - 63ms/epoch - 1ms/step\n",
      "Epoch 43/200\n",
      "45/45 - 0s - loss: 0.1249 - accuracy: 0.9630 - 65ms/epoch - 1ms/step\n",
      "Epoch 44/200\n",
      "45/45 - 0s - loss: 0.1236 - accuracy: 0.9633 - 67ms/epoch - 1ms/step\n",
      "Epoch 45/200\n",
      "45/45 - 0s - loss: 0.1215 - accuracy: 0.9644 - 64ms/epoch - 1ms/step\n",
      "Epoch 46/200\n",
      "45/45 - 0s - loss: 0.1213 - accuracy: 0.9633 - 65ms/epoch - 1ms/step\n",
      "Epoch 47/200\n",
      "45/45 - 0s - loss: 0.1183 - accuracy: 0.9662 - 68ms/epoch - 2ms/step\n",
      "Epoch 48/200\n",
      "45/45 - 0s - loss: 0.1173 - accuracy: 0.9664 - 67ms/epoch - 1ms/step\n",
      "Epoch 49/200\n",
      "45/45 - 0s - loss: 0.1177 - accuracy: 0.9659 - 67ms/epoch - 1ms/step\n",
      "Epoch 50/200\n",
      "45/45 - 0s - loss: 0.1136 - accuracy: 0.9682 - 69ms/epoch - 2ms/step\n",
      "Epoch 51/200\n",
      "45/45 - 0s - loss: 0.1117 - accuracy: 0.9689 - 66ms/epoch - 1ms/step\n",
      "Epoch 52/200\n",
      "45/45 - 0s - loss: 0.1107 - accuracy: 0.9702 - 81ms/epoch - 2ms/step\n",
      "Epoch 53/200\n",
      "45/45 - 0s - loss: 0.1093 - accuracy: 0.9698 - 66ms/epoch - 1ms/step\n",
      "Epoch 54/200\n",
      "45/45 - 0s - loss: 0.1077 - accuracy: 0.9702 - 80ms/epoch - 2ms/step\n",
      "Epoch 55/200\n",
      "45/45 - 0s - loss: 0.1063 - accuracy: 0.9711 - 70ms/epoch - 2ms/step\n",
      "Epoch 56/200\n",
      "45/45 - 0s - loss: 0.1046 - accuracy: 0.9738 - 71ms/epoch - 2ms/step\n",
      "Epoch 57/200\n",
      "45/45 - 0s - loss: 0.1038 - accuracy: 0.9729 - 66ms/epoch - 1ms/step\n",
      "Epoch 58/200\n",
      "45/45 - 0s - loss: 0.1022 - accuracy: 0.9722 - 71ms/epoch - 2ms/step\n",
      "Epoch 59/200\n",
      "45/45 - 0s - loss: 0.1020 - accuracy: 0.9747 - 56ms/epoch - 1ms/step\n",
      "Epoch 60/200\n",
      "45/45 - 0s - loss: 0.1006 - accuracy: 0.9722 - 55ms/epoch - 1ms/step\n",
      "Epoch 61/200\n",
      "45/45 - 0s - loss: 0.1004 - accuracy: 0.9727 - 55ms/epoch - 1ms/step\n",
      "Epoch 62/200\n",
      "45/45 - 0s - loss: 0.0986 - accuracy: 0.9736 - 55ms/epoch - 1ms/step\n",
      "Epoch 63/200\n",
      "45/45 - 0s - loss: 0.0974 - accuracy: 0.9758 - 108ms/epoch - 2ms/step\n",
      "Epoch 64/200\n",
      "45/45 - 0s - loss: 0.0955 - accuracy: 0.9760 - 54ms/epoch - 1ms/step\n",
      "Epoch 65/200\n",
      "45/45 - 0s - loss: 0.0942 - accuracy: 0.9751 - 55ms/epoch - 1ms/step\n",
      "Epoch 66/200\n",
      "45/45 - 0s - loss: 0.0929 - accuracy: 0.9767 - 53ms/epoch - 1ms/step\n",
      "Epoch 67/200\n",
      "45/45 - 0s - loss: 0.0919 - accuracy: 0.9769 - 57ms/epoch - 1ms/step\n",
      "Epoch 68/200\n",
      "45/45 - 0s - loss: 0.0910 - accuracy: 0.9774 - 53ms/epoch - 1ms/step\n",
      "Epoch 69/200\n",
      "45/45 - 0s - loss: 0.0901 - accuracy: 0.9776 - 56ms/epoch - 1ms/step\n",
      "Epoch 70/200\n",
      "45/45 - 0s - loss: 0.0898 - accuracy: 0.9774 - 57ms/epoch - 1ms/step\n",
      "Epoch 71/200\n",
      "45/45 - 0s - loss: 0.0878 - accuracy: 0.9780 - 55ms/epoch - 1ms/step\n",
      "Epoch 72/200\n",
      "45/45 - 0s - loss: 0.0865 - accuracy: 0.9796 - 57ms/epoch - 1ms/step\n",
      "Epoch 73/200\n",
      "45/45 - 0s - loss: 0.0858 - accuracy: 0.9803 - 60ms/epoch - 1ms/step\n",
      "Epoch 74/200\n",
      "45/45 - 0s - loss: 0.0848 - accuracy: 0.9810 - 53ms/epoch - 1ms/step\n",
      "Epoch 75/200\n",
      "45/45 - 0s - loss: 0.0838 - accuracy: 0.9814 - 55ms/epoch - 1ms/step\n",
      "Epoch 76/200\n",
      "45/45 - 0s - loss: 0.0840 - accuracy: 0.9792 - 54ms/epoch - 1ms/step\n",
      "Epoch 77/200\n",
      "45/45 - 0s - loss: 0.0825 - accuracy: 0.9810 - 55ms/epoch - 1ms/step\n",
      "Epoch 78/200\n",
      "45/45 - 0s - loss: 0.0812 - accuracy: 0.9816 - 56ms/epoch - 1ms/step\n",
      "Epoch 79/200\n",
      "45/45 - 0s - loss: 0.0806 - accuracy: 0.9812 - 57ms/epoch - 1ms/step\n",
      "Epoch 80/200\n",
      "45/45 - 0s - loss: 0.0802 - accuracy: 0.9814 - 55ms/epoch - 1ms/step\n",
      "Epoch 81/200\n",
      "45/45 - 0s - loss: 0.0796 - accuracy: 0.9810 - 54ms/epoch - 1ms/step\n",
      "Epoch 82/200\n",
      "45/45 - 0s - loss: 0.0777 - accuracy: 0.9819 - 56ms/epoch - 1ms/step\n",
      "Epoch 83/200\n",
      "45/45 - 0s - loss: 0.0766 - accuracy: 0.9825 - 58ms/epoch - 1ms/step\n",
      "Epoch 84/200\n",
      "45/45 - 0s - loss: 0.0778 - accuracy: 0.9805 - 56ms/epoch - 1ms/step\n",
      "Epoch 85/200\n",
      "45/45 - 0s - loss: 0.0752 - accuracy: 0.9836 - 60ms/epoch - 1ms/step\n",
      "Epoch 86/200\n",
      "45/45 - 0s - loss: 0.0748 - accuracy: 0.9836 - 55ms/epoch - 1ms/step\n",
      "Epoch 87/200\n",
      "45/45 - 0s - loss: 0.0731 - accuracy: 0.9850 - 54ms/epoch - 1ms/step\n",
      "Epoch 88/200\n",
      "45/45 - 0s - loss: 0.0732 - accuracy: 0.9836 - 58ms/epoch - 1ms/step\n",
      "Epoch 89/200\n",
      "45/45 - 0s - loss: 0.0728 - accuracy: 0.9823 - 59ms/epoch - 1ms/step\n",
      "Epoch 90/200\n",
      "45/45 - 0s - loss: 0.0719 - accuracy: 0.9832 - 55ms/epoch - 1ms/step\n",
      "Epoch 91/200\n",
      "45/45 - 0s - loss: 0.0705 - accuracy: 0.9836 - 58ms/epoch - 1ms/step\n",
      "Epoch 92/200\n",
      "45/45 - 0s - loss: 0.0709 - accuracy: 0.9836 - 56ms/epoch - 1ms/step\n",
      "Epoch 93/200\n",
      "45/45 - 0s - loss: 0.0693 - accuracy: 0.9843 - 58ms/epoch - 1ms/step\n",
      "Epoch 94/200\n",
      "45/45 - 0s - loss: 0.0687 - accuracy: 0.9854 - 58ms/epoch - 1ms/step\n",
      "Epoch 95/200\n",
      "45/45 - 0s - loss: 0.0678 - accuracy: 0.9852 - 56ms/epoch - 1ms/step\n",
      "Epoch 96/200\n",
      "45/45 - 0s - loss: 0.0675 - accuracy: 0.9841 - 56ms/epoch - 1ms/step\n",
      "Epoch 97/200\n",
      "45/45 - 0s - loss: 0.0667 - accuracy: 0.9854 - 55ms/epoch - 1ms/step\n",
      "Epoch 98/200\n",
      "45/45 - 0s - loss: 0.0658 - accuracy: 0.9859 - 57ms/epoch - 1ms/step\n",
      "Epoch 99/200\n",
      "45/45 - 0s - loss: 0.0647 - accuracy: 0.9861 - 55ms/epoch - 1ms/step\n",
      "Epoch 100/200\n",
      "45/45 - 0s - loss: 0.0654 - accuracy: 0.9861 - 55ms/epoch - 1ms/step\n",
      "Epoch 101/200\n",
      "45/45 - 0s - loss: 0.0640 - accuracy: 0.9850 - 53ms/epoch - 1ms/step\n",
      "Epoch 102/200\n",
      "45/45 - 0s - loss: 0.0629 - accuracy: 0.9872 - 61ms/epoch - 1ms/step\n",
      "Epoch 103/200\n",
      "45/45 - 0s - loss: 0.0624 - accuracy: 0.9872 - 58ms/epoch - 1ms/step\n",
      "Epoch 104/200\n",
      "45/45 - 0s - loss: 0.0629 - accuracy: 0.9839 - 59ms/epoch - 1ms/step\n",
      "Epoch 105/200\n",
      "45/45 - 0s - loss: 0.0614 - accuracy: 0.9863 - 61ms/epoch - 1ms/step\n",
      "Epoch 106/200\n",
      "45/45 - 0s - loss: 0.0600 - accuracy: 0.9872 - 62ms/epoch - 1ms/step\n",
      "Epoch 107/200\n",
      "45/45 - 0s - loss: 0.0603 - accuracy: 0.9857 - 64ms/epoch - 1ms/step\n",
      "Epoch 108/200\n",
      "45/45 - 0s - loss: 0.0597 - accuracy: 0.9866 - 59ms/epoch - 1ms/step\n",
      "Epoch 109/200\n",
      "45/45 - 0s - loss: 0.0581 - accuracy: 0.9877 - 63ms/epoch - 1ms/step\n",
      "Epoch 110/200\n",
      "45/45 - 0s - loss: 0.0579 - accuracy: 0.9872 - 67ms/epoch - 1ms/step\n",
      "Epoch 111/200\n",
      "45/45 - 0s - loss: 0.0573 - accuracy: 0.9881 - 63ms/epoch - 1ms/step\n",
      "Epoch 112/200\n",
      "45/45 - 0s - loss: 0.0571 - accuracy: 0.9877 - 64ms/epoch - 1ms/step\n",
      "Epoch 113/200\n",
      "45/45 - 0s - loss: 0.0556 - accuracy: 0.9879 - 66ms/epoch - 1ms/step\n",
      "Epoch 114/200\n",
      "45/45 - 0s - loss: 0.0555 - accuracy: 0.9888 - 62ms/epoch - 1ms/step\n",
      "Epoch 115/200\n",
      "45/45 - 0s - loss: 0.0556 - accuracy: 0.9868 - 62ms/epoch - 1ms/step\n",
      "Epoch 116/200\n",
      "45/45 - 0s - loss: 0.0541 - accuracy: 0.9881 - 60ms/epoch - 1ms/step\n",
      "Epoch 117/200\n",
      "45/45 - 0s - loss: 0.0538 - accuracy: 0.9879 - 63ms/epoch - 1ms/step\n",
      "Epoch 118/200\n",
      "45/45 - 0s - loss: 0.0532 - accuracy: 0.9888 - 61ms/epoch - 1ms/step\n",
      "Epoch 119/200\n",
      "45/45 - 0s - loss: 0.0530 - accuracy: 0.9877 - 63ms/epoch - 1ms/step\n",
      "Epoch 120/200\n",
      "45/45 - 0s - loss: 0.0516 - accuracy: 0.9886 - 63ms/epoch - 1ms/step\n",
      "Epoch 121/200\n",
      "45/45 - 0s - loss: 0.0514 - accuracy: 0.9892 - 60ms/epoch - 1ms/step\n",
      "Epoch 122/200\n",
      "45/45 - 0s - loss: 0.0504 - accuracy: 0.9899 - 62ms/epoch - 1ms/step\n",
      "Epoch 123/200\n",
      "45/45 - 0s - loss: 0.0505 - accuracy: 0.9899 - 63ms/epoch - 1ms/step\n",
      "Epoch 124/200\n",
      "45/45 - 0s - loss: 0.0503 - accuracy: 0.9875 - 65ms/epoch - 1ms/step\n",
      "Epoch 125/200\n",
      "45/45 - 0s - loss: 0.0494 - accuracy: 0.9895 - 63ms/epoch - 1ms/step\n",
      "Epoch 126/200\n",
      "45/45 - 0s - loss: 0.0498 - accuracy: 0.9890 - 62ms/epoch - 1ms/step\n",
      "Epoch 127/200\n",
      "45/45 - 0s - loss: 0.0485 - accuracy: 0.9899 - 57ms/epoch - 1ms/step\n",
      "Epoch 128/200\n",
      "45/45 - 0s - loss: 0.0481 - accuracy: 0.9904 - 65ms/epoch - 1ms/step\n",
      "Epoch 129/200\n",
      "45/45 - 0s - loss: 0.0470 - accuracy: 0.9901 - 58ms/epoch - 1ms/step\n",
      "Epoch 130/200\n",
      "45/45 - 0s - loss: 0.0471 - accuracy: 0.9892 - 61ms/epoch - 1ms/step\n",
      "Epoch 131/200\n",
      "45/45 - 0s - loss: 0.0470 - accuracy: 0.9895 - 55ms/epoch - 1ms/step\n",
      "Epoch 132/200\n",
      "45/45 - 0s - loss: 0.0466 - accuracy: 0.9901 - 60ms/epoch - 1ms/step\n",
      "Epoch 133/200\n",
      "45/45 - 0s - loss: 0.0462 - accuracy: 0.9906 - 58ms/epoch - 1ms/step\n",
      "Epoch 134/200\n",
      "45/45 - 0s - loss: 0.0455 - accuracy: 0.9899 - 59ms/epoch - 1ms/step\n",
      "Epoch 135/200\n",
      "45/45 - 0s - loss: 0.0448 - accuracy: 0.9910 - 58ms/epoch - 1ms/step\n",
      "Epoch 136/200\n",
      "45/45 - 0s - loss: 0.0439 - accuracy: 0.9917 - 62ms/epoch - 1ms/step\n",
      "Epoch 137/200\n",
      "45/45 - 0s - loss: 0.0440 - accuracy: 0.9897 - 80ms/epoch - 2ms/step\n",
      "Epoch 138/200\n",
      "45/45 - 0s - loss: 0.0437 - accuracy: 0.9913 - 68ms/epoch - 2ms/step\n",
      "Epoch 139/200\n",
      "45/45 - 0s - loss: 0.0431 - accuracy: 0.9917 - 70ms/epoch - 2ms/step\n",
      "Epoch 140/200\n",
      "45/45 - 0s - loss: 0.0434 - accuracy: 0.9895 - 66ms/epoch - 1ms/step\n",
      "Epoch 141/200\n",
      "45/45 - 0s - loss: 0.0428 - accuracy: 0.9913 - 55ms/epoch - 1ms/step\n",
      "Epoch 142/200\n",
      "45/45 - 0s - loss: 0.0421 - accuracy: 0.9913 - 54ms/epoch - 1ms/step\n",
      "Epoch 143/200\n",
      "45/45 - 0s - loss: 0.0425 - accuracy: 0.9899 - 52ms/epoch - 1ms/step\n",
      "Epoch 144/200\n",
      "45/45 - 0s - loss: 0.0414 - accuracy: 0.9910 - 73ms/epoch - 2ms/step\n",
      "Epoch 145/200\n",
      "45/45 - 0s - loss: 0.0418 - accuracy: 0.9904 - 61ms/epoch - 1ms/step\n",
      "Epoch 146/200\n",
      "45/45 - 0s - loss: 0.0412 - accuracy: 0.9906 - 51ms/epoch - 1ms/step\n",
      "Epoch 147/200\n",
      "45/45 - 0s - loss: 0.0399 - accuracy: 0.9915 - 51ms/epoch - 1ms/step\n",
      "Epoch 148/200\n",
      "45/45 - 0s - loss: 0.0398 - accuracy: 0.9922 - 52ms/epoch - 1ms/step\n",
      "Epoch 149/200\n",
      "45/45 - 0s - loss: 0.0394 - accuracy: 0.9913 - 53ms/epoch - 1ms/step\n",
      "Epoch 150/200\n",
      "45/45 - 0s - loss: 0.0389 - accuracy: 0.9915 - 55ms/epoch - 1ms/step\n",
      "Epoch 151/200\n",
      "45/45 - 0s - loss: 0.0393 - accuracy: 0.9915 - 54ms/epoch - 1ms/step\n",
      "Epoch 152/200\n",
      "45/45 - 0s - loss: 0.0387 - accuracy: 0.9917 - 54ms/epoch - 1ms/step\n",
      "Epoch 153/200\n",
      "45/45 - 0s - loss: 0.0392 - accuracy: 0.9922 - 54ms/epoch - 1ms/step\n",
      "Epoch 154/200\n",
      "45/45 - 0s - loss: 0.0385 - accuracy: 0.9904 - 54ms/epoch - 1ms/step\n",
      "Epoch 155/200\n",
      "45/45 - 0s - loss: 0.0376 - accuracy: 0.9926 - 53ms/epoch - 1ms/step\n",
      "Epoch 156/200\n",
      "45/45 - 0s - loss: 0.0372 - accuracy: 0.9917 - 54ms/epoch - 1ms/step\n",
      "Epoch 157/200\n",
      "45/45 - 0s - loss: 0.0379 - accuracy: 0.9915 - 55ms/epoch - 1ms/step\n",
      "Epoch 158/200\n",
      "45/45 - 0s - loss: 0.0362 - accuracy: 0.9928 - 57ms/epoch - 1ms/step\n",
      "Epoch 159/200\n",
      "45/45 - 0s - loss: 0.0366 - accuracy: 0.9933 - 55ms/epoch - 1ms/step\n",
      "Epoch 160/200\n",
      "45/45 - 0s - loss: 0.0361 - accuracy: 0.9917 - 55ms/epoch - 1ms/step\n",
      "Epoch 161/200\n",
      "45/45 - 0s - loss: 0.0359 - accuracy: 0.9913 - 54ms/epoch - 1ms/step\n",
      "Epoch 162/200\n",
      "45/45 - 0s - loss: 0.0362 - accuracy: 0.9924 - 64ms/epoch - 1ms/step\n",
      "Epoch 163/200\n",
      "45/45 - 0s - loss: 0.0358 - accuracy: 0.9924 - 75ms/epoch - 2ms/step\n",
      "Epoch 164/200\n",
      "45/45 - 0s - loss: 0.0361 - accuracy: 0.9913 - 65ms/epoch - 1ms/step\n",
      "Epoch 165/200\n",
      "45/45 - 0s - loss: 0.0356 - accuracy: 0.9917 - 61ms/epoch - 1ms/step\n",
      "Epoch 166/200\n",
      "45/45 - 0s - loss: 0.0352 - accuracy: 0.9917 - 56ms/epoch - 1ms/step\n",
      "Epoch 167/200\n",
      "45/45 - 0s - loss: 0.0348 - accuracy: 0.9926 - 68ms/epoch - 2ms/step\n",
      "Epoch 168/200\n",
      "45/45 - 0s - loss: 0.0335 - accuracy: 0.9926 - 63ms/epoch - 1ms/step\n",
      "Epoch 169/200\n",
      "45/45 - 0s - loss: 0.0334 - accuracy: 0.9931 - 61ms/epoch - 1ms/step\n",
      "Epoch 170/200\n",
      "45/45 - 0s - loss: 0.0331 - accuracy: 0.9926 - 59ms/epoch - 1ms/step\n",
      "Epoch 171/200\n",
      "45/45 - 0s - loss: 0.0333 - accuracy: 0.9922 - 60ms/epoch - 1ms/step\n",
      "Epoch 172/200\n",
      "45/45 - 0s - loss: 0.0336 - accuracy: 0.9926 - 59ms/epoch - 1ms/step\n",
      "Epoch 173/200\n",
      "45/45 - 0s - loss: 0.0330 - accuracy: 0.9922 - 58ms/epoch - 1ms/step\n",
      "Epoch 174/200\n",
      "45/45 - 0s - loss: 0.0337 - accuracy: 0.9931 - 56ms/epoch - 1ms/step\n",
      "Epoch 175/200\n",
      "45/45 - 0s - loss: 0.0325 - accuracy: 0.9937 - 54ms/epoch - 1ms/step\n",
      "Epoch 176/200\n",
      "45/45 - 0s - loss: 0.0316 - accuracy: 0.9935 - 60ms/epoch - 1ms/step\n",
      "Epoch 177/200\n",
      "45/45 - 0s - loss: 0.0316 - accuracy: 0.9940 - 58ms/epoch - 1ms/step\n",
      "Epoch 178/200\n",
      "45/45 - 0s - loss: 0.0324 - accuracy: 0.9924 - 55ms/epoch - 1ms/step\n",
      "Epoch 179/200\n",
      "45/45 - 0s - loss: 0.0318 - accuracy: 0.9944 - 55ms/epoch - 1ms/step\n",
      "Epoch 180/200\n",
      "45/45 - 0s - loss: 0.0320 - accuracy: 0.9926 - 60ms/epoch - 1ms/step\n",
      "Epoch 181/200\n",
      "45/45 - 0s - loss: 0.0311 - accuracy: 0.9931 - 55ms/epoch - 1ms/step\n",
      "Epoch 182/200\n",
      "45/45 - 0s - loss: 0.0310 - accuracy: 0.9937 - 54ms/epoch - 1ms/step\n",
      "Epoch 183/200\n",
      "45/45 - 0s - loss: 0.0306 - accuracy: 0.9931 - 57ms/epoch - 1ms/step\n",
      "Epoch 184/200\n",
      "45/45 - 0s - loss: 0.0306 - accuracy: 0.9942 - 54ms/epoch - 1ms/step\n",
      "Epoch 185/200\n",
      "45/45 - 0s - loss: 0.0305 - accuracy: 0.9933 - 56ms/epoch - 1ms/step\n",
      "Epoch 186/200\n",
      "45/45 - 0s - loss: 0.0302 - accuracy: 0.9933 - 55ms/epoch - 1ms/step\n",
      "Epoch 187/200\n",
      "45/45 - 0s - loss: 0.0294 - accuracy: 0.9944 - 55ms/epoch - 1ms/step\n",
      "Epoch 188/200\n",
      "45/45 - 0s - loss: 0.0297 - accuracy: 0.9933 - 55ms/epoch - 1ms/step\n",
      "Epoch 189/200\n",
      "45/45 - 0s - loss: 0.0291 - accuracy: 0.9931 - 57ms/epoch - 1ms/step\n",
      "Epoch 190/200\n",
      "45/45 - 0s - loss: 0.0293 - accuracy: 0.9935 - 54ms/epoch - 1ms/step\n",
      "Epoch 191/200\n",
      "45/45 - 0s - loss: 0.0295 - accuracy: 0.9924 - 53ms/epoch - 1ms/step\n",
      "Epoch 192/200\n",
      "45/45 - 0s - loss: 0.0291 - accuracy: 0.9937 - 97ms/epoch - 2ms/step\n",
      "Epoch 193/200\n",
      "45/45 - 0s - loss: 0.0281 - accuracy: 0.9940 - 60ms/epoch - 1ms/step\n",
      "Epoch 194/200\n",
      "45/45 - 0s - loss: 0.0283 - accuracy: 0.9933 - 64ms/epoch - 1ms/step\n",
      "Epoch 195/200\n",
      "45/45 - 0s - loss: 0.0281 - accuracy: 0.9948 - 75ms/epoch - 2ms/step\n",
      "Epoch 196/200\n",
      "45/45 - 0s - loss: 0.0282 - accuracy: 0.9942 - 57ms/epoch - 1ms/step\n",
      "Epoch 197/200\n",
      "45/45 - 0s - loss: 0.0284 - accuracy: 0.9944 - 52ms/epoch - 1ms/step\n",
      "Epoch 198/200\n",
      "45/45 - 0s - loss: 0.0281 - accuracy: 0.9937 - 53ms/epoch - 1ms/step\n",
      "Epoch 199/200\n",
      "45/45 - 0s - loss: 0.0278 - accuracy: 0.9944 - 52ms/epoch - 1ms/step\n",
      "Epoch 200/200\n",
      "45/45 - 0s - loss: 0.0271 - accuracy: 0.9951 - 50ms/epoch - 1ms/step\n"
     ]
    },
    {
     "data": {
      "text/plain": [
       "<keras.src.callbacks.History at 0x29897756bd0>"
      ]
     },
     "execution_count": 108,
     "metadata": {},
     "output_type": "execute_result"
    }
   ],
   "source": [
    "model.fit(X_train, y_train_onehot, epochs=200, batch_size=100, verbose=2)"
   ]
  },
  {
   "cell_type": "markdown",
   "metadata": {},
   "source": [
    "Tóm tắt các thông tin sau khi train"
   ]
  },
  {
   "cell_type": "code",
   "execution_count": 109,
   "metadata": {},
   "outputs": [
    {
     "name": "stdout",
     "output_type": "stream",
     "text": [
      "Model: \"sequential_7\"\n",
      "_________________________________________________________________\n",
      " Layer (type)                Output Shape              Param #   \n",
      "=================================================================\n",
      " dense_20 (Dense)            (None, 16)                144       \n",
      "                                                                 \n",
      " dense_21 (Dense)            (None, 32)                544       \n",
      "                                                                 \n",
      " dense_22 (Dense)            (None, 4)                 132       \n",
      "                                                                 \n",
      "=================================================================\n",
      "Total params: 820 (3.20 KB)\n",
      "Trainable params: 820 (3.20 KB)\n",
      "Non-trainable params: 0 (0.00 Byte)\n",
      "_________________________________________________________________\n"
     ]
    }
   ],
   "source": [
    "model.summary()"
   ]
  },
  {
   "cell_type": "markdown",
   "metadata": {},
   "source": [
    "Predict"
   ]
  },
  {
   "cell_type": "code",
   "execution_count": 114,
   "metadata": {},
   "outputs": [
    {
     "name": "stdout",
     "output_type": "stream",
     "text": [
      "47/47 [==============================] - 0s 2ms/step\n"
     ]
    },
    {
     "data": {
      "text/plain": [
       "array([[2.79702461e-22, 6.17517158e-02, 9.38248336e-01, 7.79727550e-16],\n",
       "       [4.48850638e-19, 1.00000000e+00, 9.89710601e-18, 1.05858330e-28],\n",
       "       [4.82290286e-30, 9.85349655e-01, 1.46502936e-02, 1.22002545e-23],\n",
       "       ...,\n",
       "       [3.07369072e-30, 1.00000000e+00, 0.00000000e+00, 0.00000000e+00],\n",
       "       [1.63725099e-13, 6.22724835e-03, 5.37539541e-04, 9.93235171e-01],\n",
       "       [2.89651666e-07, 9.99999642e-01, 2.41934339e-09, 6.48902869e-08]],\n",
       "      dtype=float32)"
      ]
     },
     "execution_count": 114,
     "metadata": {},
     "output_type": "execute_result"
    }
   ],
   "source": [
    "y_pred = model.predict(X_test)\n",
    "y_pred"
   ]
  },
  {
   "cell_type": "markdown",
   "metadata": {},
   "source": [
    "Với mỗi hàng trong ma trận trên chính là xác xuất của từng class khi model dự đoán 1 input.\\\n",
    "Với mỗi hàng ta sẽ lấy index của element có giá trị lớn nhất, index này cũng chính là class mà model dự đoán cho 1 input."
   ]
  },
  {
   "cell_type": "code",
   "execution_count": 115,
   "metadata": {},
   "outputs": [
    {
     "data": {
      "text/plain": [
       "array([2, 1, 1, ..., 1, 3, 1], dtype=int64)"
      ]
     },
     "execution_count": 115,
     "metadata": {},
     "output_type": "execute_result"
    }
   ],
   "source": [
    "y_pred = y_pred.argmax(axis=1)\n",
    "y_pred"
   ]
  },
  {
   "cell_type": "markdown",
   "metadata": {},
   "source": [
    "Ta thấy rằng model FFNN này có tỉ lệ dự đóan của model này ở mức cao lên đến <b>99%<b>"
   ]
  },
  {
   "cell_type": "code",
   "execution_count": 116,
   "metadata": {},
   "outputs": [
    {
     "name": "stdout",
     "output_type": "stream",
     "text": [
      "              precision    recall  f1-score   support\n",
      "\n",
      "           0       1.00      0.97      0.98       219\n",
      "           1       0.98      0.99      0.99       874\n",
      "           2       0.95      0.95      0.95       110\n",
      "           3       0.99      0.99      0.99       285\n",
      "\n",
      "    accuracy                           0.99      1488\n",
      "   macro avg       0.98      0.98      0.98      1488\n",
      "weighted avg       0.99      0.99      0.99      1488\n",
      "\n"
     ]
    }
   ],
   "source": [
    "print(classification_report(y_test, y_pred))"
   ]
  },
  {
   "cell_type": "markdown",
   "metadata": {},
   "source": [
    "#### Recurrent Neural Network"
   ]
  },
  {
   "cell_type": "markdown",
   "metadata": {},
   "source": [
    "Sử dụng early stopping để tránh overfitting"
   ]
  },
  {
   "cell_type": "code",
   "execution_count": 50,
   "metadata": {},
   "outputs": [],
   "source": [
    "from keras.callbacks import EarlyStopping\n",
    "from keras.regularizers import l2"
   ]
  },
  {
   "cell_type": "markdown",
   "metadata": {},
   "source": [
    "Chọn feature time làm dữ liệu, target vẫn là traffic situation"
   ]
  },
  {
   "cell_type": "code",
   "execution_count": 51,
   "metadata": {},
   "outputs": [],
   "source": [
    "df_tmp = df\n",
    "df_tmp['Time'] = pd.to_datetime(df_tmp['Time'])\n",
    "df_tmp['Time'] = df_tmp['Time'].apply(lambda x: x.timestamp())"
   ]
  },
  {
   "cell_type": "code",
   "execution_count": 52,
   "metadata": {},
   "outputs": [],
   "source": [
    "X = df_tmp[['Time']]\n",
    "y = df_tmp['Traffic Situation'].values"
   ]
  },
  {
   "cell_type": "markdown",
   "metadata": {},
   "source": [
    "Scaling data"
   ]
  },
  {
   "cell_type": "code",
   "execution_count": 53,
   "metadata": {},
   "outputs": [],
   "source": [
    "scaler = StandardScaler()\n",
    "X_scaled = scaler.fit_transform(X)"
   ]
  },
  {
   "cell_type": "markdown",
   "metadata": {},
   "source": [
    "Tách dữ liệu"
   ]
  },
  {
   "cell_type": "code",
   "execution_count": 54,
   "metadata": {},
   "outputs": [],
   "source": [
    "X_train, X_test, y_train, y_test = train_test_split(X_scaled, y, test_size=0.2, random_state=42)"
   ]
  },
  {
   "cell_type": "markdown",
   "metadata": {},
   "source": [
    "Encode target"
   ]
  },
  {
   "cell_type": "code",
   "execution_count": 55,
   "metadata": {},
   "outputs": [],
   "source": [
    "from sklearn.preprocessing import LabelEncoder\n",
    "from keras.utils import to_categorical\n",
    "\n",
    "lb = LabelEncoder()\n",
    "y_train = to_categorical(lb.fit_transform(y_train))\n",
    "y_test = to_categorical(lb.transform(y_test))"
   ]
  },
  {
   "cell_type": "markdown",
   "metadata": {},
   "source": [
    "Tạo model RNN với Long Short Term Memory"
   ]
  },
  {
   "cell_type": "code",
   "execution_count": 56,
   "metadata": {},
   "outputs": [],
   "source": [
    "model = keras.models.Sequential([\n",
    "    layers.LSTM(128, activation='relu', input_shape=(X_train.shape[1], 1), kernel_regularizer=l2(0.01)),\n",
    "    layers.Dense(4, activation='softmax')\n",
    "])"
   ]
  },
  {
   "cell_type": "code",
   "execution_count": 57,
   "metadata": {},
   "outputs": [],
   "source": [
    "model.compile(optimizer='adam', loss='categorical_crossentropy', metrics=['accuracy'])"
   ]
  },
  {
   "cell_type": "code",
   "execution_count": 58,
   "metadata": {},
   "outputs": [],
   "source": [
    "X_train = X_train.reshape((X_train.shape[0], X_train.shape[1], 1))\n",
    "X_test = X_test.reshape((X_test.shape[0], X_test.shape[1], 1))"
   ]
  },
  {
   "cell_type": "code",
   "execution_count": 59,
   "metadata": {},
   "outputs": [],
   "source": [
    "early_stopping = EarlyStopping(monitor='val_loss', patience=5, restore_best_weights=True)"
   ]
  },
  {
   "cell_type": "code",
   "execution_count": 60,
   "metadata": {},
   "outputs": [
    {
     "name": "stdout",
     "output_type": "stream",
     "text": [
      "Epoch 1/200\n",
      "48/48 [==============================] - 3s 14ms/step - loss: 1.3421 - accuracy: 0.5812 - val_loss: 1.2674 - val_accuracy: 0.6280\n",
      "Epoch 2/200\n",
      "48/48 [==============================] - 0s 6ms/step - loss: 1.2081 - accuracy: 0.6011 - val_loss: 1.1167 - val_accuracy: 0.6280\n",
      "Epoch 3/200\n",
      "48/48 [==============================] - 0s 6ms/step - loss: 1.1023 - accuracy: 0.6011 - val_loss: 1.0475 - val_accuracy: 0.6280\n",
      "Epoch 4/200\n",
      "48/48 [==============================] - 0s 6ms/step - loss: 1.0721 - accuracy: 0.6011 - val_loss: 1.0344 - val_accuracy: 0.6280\n",
      "Epoch 5/200\n",
      "48/48 [==============================] - 0s 6ms/step - loss: 1.0625 - accuracy: 0.6011 - val_loss: 1.0300 - val_accuracy: 0.6280\n",
      "Epoch 6/200\n",
      "48/48 [==============================] - 0s 6ms/step - loss: 1.0571 - accuracy: 0.6011 - val_loss: 1.0268 - val_accuracy: 0.6280\n",
      "Epoch 7/200\n",
      "48/48 [==============================] - 0s 8ms/step - loss: 1.0535 - accuracy: 0.6011 - val_loss: 1.0246 - val_accuracy: 0.6280\n",
      "Epoch 8/200\n",
      "48/48 [==============================] - 0s 5ms/step - loss: 1.0500 - accuracy: 0.6011 - val_loss: 1.0220 - val_accuracy: 0.6280\n",
      "Epoch 9/200\n",
      "48/48 [==============================] - 0s 9ms/step - loss: 1.0467 - accuracy: 0.6011 - val_loss: 1.0188 - val_accuracy: 0.6280\n",
      "Epoch 10/200\n",
      "48/48 [==============================] - 0s 7ms/step - loss: 1.0433 - accuracy: 0.6011 - val_loss: 1.0159 - val_accuracy: 0.6280\n",
      "Epoch 11/200\n",
      "48/48 [==============================] - 0s 7ms/step - loss: 1.0393 - accuracy: 0.6011 - val_loss: 1.0118 - val_accuracy: 0.6280\n",
      "Epoch 12/200\n",
      "48/48 [==============================] - 0s 6ms/step - loss: 1.0355 - accuracy: 0.6011 - val_loss: 1.0080 - val_accuracy: 0.6280\n",
      "Epoch 13/200\n",
      "48/48 [==============================] - 0s 7ms/step - loss: 1.0314 - accuracy: 0.6011 - val_loss: 1.0047 - val_accuracy: 0.6280\n",
      "Epoch 14/200\n",
      "48/48 [==============================] - 0s 6ms/step - loss: 1.0268 - accuracy: 0.6011 - val_loss: 1.0005 - val_accuracy: 0.6280\n",
      "Epoch 15/200\n",
      "48/48 [==============================] - 0s 7ms/step - loss: 1.0224 - accuracy: 0.6011 - val_loss: 0.9969 - val_accuracy: 0.6280\n",
      "Epoch 16/200\n",
      "48/48 [==============================] - 0s 8ms/step - loss: 1.0181 - accuracy: 0.6011 - val_loss: 0.9924 - val_accuracy: 0.6280\n",
      "Epoch 17/200\n",
      "48/48 [==============================] - 0s 5ms/step - loss: 1.0141 - accuracy: 0.6011 - val_loss: 0.9891 - val_accuracy: 0.6280\n",
      "Epoch 18/200\n",
      "48/48 [==============================] - 0s 6ms/step - loss: 1.0096 - accuracy: 0.6011 - val_loss: 0.9851 - val_accuracy: 0.6280\n",
      "Epoch 19/200\n",
      "48/48 [==============================] - 0s 6ms/step - loss: 1.0058 - accuracy: 0.6011 - val_loss: 0.9828 - val_accuracy: 0.6280\n",
      "Epoch 20/200\n",
      "48/48 [==============================] - 0s 5ms/step - loss: 1.0025 - accuracy: 0.6011 - val_loss: 0.9801 - val_accuracy: 0.6280\n",
      "Epoch 21/200\n",
      "48/48 [==============================] - 0s 5ms/step - loss: 0.9993 - accuracy: 0.6011 - val_loss: 0.9757 - val_accuracy: 0.6280\n",
      "Epoch 22/200\n",
      "48/48 [==============================] - 0s 7ms/step - loss: 0.9963 - accuracy: 0.6011 - val_loss: 0.9731 - val_accuracy: 0.6280\n",
      "Epoch 23/200\n",
      "48/48 [==============================] - 0s 8ms/step - loss: 0.9940 - accuracy: 0.6011 - val_loss: 0.9707 - val_accuracy: 0.6280\n",
      "Epoch 24/200\n",
      "48/48 [==============================] - 0s 7ms/step - loss: 0.9909 - accuracy: 0.6011 - val_loss: 0.9688 - val_accuracy: 0.6280\n",
      "Epoch 25/200\n",
      "48/48 [==============================] - 0s 7ms/step - loss: 0.9886 - accuracy: 0.6011 - val_loss: 0.9672 - val_accuracy: 0.6280\n",
      "Epoch 26/200\n",
      "48/48 [==============================] - 0s 6ms/step - loss: 0.9865 - accuracy: 0.6011 - val_loss: 0.9646 - val_accuracy: 0.6280\n",
      "Epoch 27/200\n",
      "48/48 [==============================] - 0s 8ms/step - loss: 0.9848 - accuracy: 0.6011 - val_loss: 0.9627 - val_accuracy: 0.6280\n",
      "Epoch 28/200\n",
      "48/48 [==============================] - 0s 7ms/step - loss: 0.9831 - accuracy: 0.6011 - val_loss: 0.9635 - val_accuracy: 0.6280\n",
      "Epoch 29/200\n",
      "48/48 [==============================] - 0s 10ms/step - loss: 0.9812 - accuracy: 0.6011 - val_loss: 0.9604 - val_accuracy: 0.6280\n",
      "Epoch 30/200\n",
      "48/48 [==============================] - 0s 9ms/step - loss: 0.9799 - accuracy: 0.6011 - val_loss: 0.9577 - val_accuracy: 0.6280\n",
      "Epoch 31/200\n",
      "48/48 [==============================] - 0s 6ms/step - loss: 0.9790 - accuracy: 0.6011 - val_loss: 0.9595 - val_accuracy: 0.6280\n",
      "Epoch 32/200\n",
      "48/48 [==============================] - 0s 6ms/step - loss: 0.9771 - accuracy: 0.6011 - val_loss: 0.9568 - val_accuracy: 0.6280\n",
      "Epoch 33/200\n",
      "48/48 [==============================] - 0s 7ms/step - loss: 0.9756 - accuracy: 0.6011 - val_loss: 0.9551 - val_accuracy: 0.6280\n",
      "Epoch 34/200\n",
      "48/48 [==============================] - 0s 6ms/step - loss: 0.9742 - accuracy: 0.6011 - val_loss: 0.9540 - val_accuracy: 0.6280\n",
      "Epoch 35/200\n",
      "48/48 [==============================] - 0s 8ms/step - loss: 0.9736 - accuracy: 0.6011 - val_loss: 0.9532 - val_accuracy: 0.6280\n",
      "Epoch 36/200\n",
      "48/48 [==============================] - 0s 8ms/step - loss: 0.9724 - accuracy: 0.6011 - val_loss: 0.9520 - val_accuracy: 0.6280\n",
      "Epoch 37/200\n",
      "48/48 [==============================] - 0s 6ms/step - loss: 0.9715 - accuracy: 0.6011 - val_loss: 0.9519 - val_accuracy: 0.6280\n",
      "Epoch 38/200\n",
      "48/48 [==============================] - 0s 6ms/step - loss: 0.9706 - accuracy: 0.6011 - val_loss: 0.9505 - val_accuracy: 0.6280\n",
      "Epoch 39/200\n",
      "48/48 [==============================] - 0s 6ms/step - loss: 0.9701 - accuracy: 0.6011 - val_loss: 0.9496 - val_accuracy: 0.6280\n",
      "Epoch 40/200\n",
      "48/48 [==============================] - 0s 8ms/step - loss: 0.9694 - accuracy: 0.6011 - val_loss: 0.9495 - val_accuracy: 0.6280\n",
      "Epoch 41/200\n",
      "48/48 [==============================] - 0s 5ms/step - loss: 0.9684 - accuracy: 0.6011 - val_loss: 0.9490 - val_accuracy: 0.6280\n",
      "Epoch 42/200\n",
      "48/48 [==============================] - 0s 6ms/step - loss: 0.9681 - accuracy: 0.6011 - val_loss: 0.9482 - val_accuracy: 0.6280\n",
      "Epoch 43/200\n",
      "48/48 [==============================] - 0s 6ms/step - loss: 0.9669 - accuracy: 0.6011 - val_loss: 0.9467 - val_accuracy: 0.6280\n",
      "Epoch 44/200\n",
      "48/48 [==============================] - 0s 6ms/step - loss: 0.9665 - accuracy: 0.6011 - val_loss: 0.9463 - val_accuracy: 0.6280\n",
      "Epoch 45/200\n",
      "48/48 [==============================] - 0s 6ms/step - loss: 0.9658 - accuracy: 0.6011 - val_loss: 0.9458 - val_accuracy: 0.6280\n",
      "Epoch 46/200\n",
      "48/48 [==============================] - 0s 5ms/step - loss: 0.9653 - accuracy: 0.6011 - val_loss: 0.9454 - val_accuracy: 0.6280\n",
      "Epoch 47/200\n",
      "48/48 [==============================] - 0s 6ms/step - loss: 0.9651 - accuracy: 0.6011 - val_loss: 0.9444 - val_accuracy: 0.6280\n",
      "Epoch 48/200\n",
      "48/48 [==============================] - 0s 8ms/step - loss: 0.9641 - accuracy: 0.6011 - val_loss: 0.9450 - val_accuracy: 0.6280\n",
      "Epoch 49/200\n",
      "48/48 [==============================] - 0s 7ms/step - loss: 0.9633 - accuracy: 0.6030 - val_loss: 0.9440 - val_accuracy: 0.6280\n",
      "Epoch 50/200\n",
      "48/48 [==============================] - 1s 11ms/step - loss: 0.9629 - accuracy: 0.6011 - val_loss: 0.9435 - val_accuracy: 0.6280\n",
      "Epoch 51/200\n",
      "48/48 [==============================] - 0s 8ms/step - loss: 0.9625 - accuracy: 0.6011 - val_loss: 0.9428 - val_accuracy: 0.6280\n",
      "Epoch 52/200\n",
      "48/48 [==============================] - 0s 6ms/step - loss: 0.9621 - accuracy: 0.6011 - val_loss: 0.9429 - val_accuracy: 0.6280\n",
      "Epoch 53/200\n",
      "48/48 [==============================] - 0s 6ms/step - loss: 0.9614 - accuracy: 0.6011 - val_loss: 0.9425 - val_accuracy: 0.6280\n",
      "Epoch 54/200\n",
      "48/48 [==============================] - 0s 7ms/step - loss: 0.9611 - accuracy: 0.6011 - val_loss: 0.9419 - val_accuracy: 0.6280\n",
      "Epoch 55/200\n",
      "48/48 [==============================] - 0s 6ms/step - loss: 0.9610 - accuracy: 0.6011 - val_loss: 0.9409 - val_accuracy: 0.6280\n",
      "Epoch 56/200\n",
      "48/48 [==============================] - 0s 6ms/step - loss: 0.9602 - accuracy: 0.6011 - val_loss: 0.9415 - val_accuracy: 0.6280\n",
      "Epoch 57/200\n",
      "48/48 [==============================] - 0s 6ms/step - loss: 0.9603 - accuracy: 0.6011 - val_loss: 0.9409 - val_accuracy: 0.6280\n",
      "Epoch 58/200\n",
      "48/48 [==============================] - 0s 6ms/step - loss: 0.9592 - accuracy: 0.6039 - val_loss: 0.9405 - val_accuracy: 0.6280\n",
      "Epoch 59/200\n",
      "48/48 [==============================] - 0s 6ms/step - loss: 0.9594 - accuracy: 0.6011 - val_loss: 0.9411 - val_accuracy: 0.6280\n",
      "Epoch 60/200\n",
      "48/48 [==============================] - 0s 7ms/step - loss: 0.9586 - accuracy: 0.6011 - val_loss: 0.9407 - val_accuracy: 0.6280\n",
      "Epoch 61/200\n",
      "48/48 [==============================] - 0s 5ms/step - loss: 0.9583 - accuracy: 0.6013 - val_loss: 0.9402 - val_accuracy: 0.6322\n",
      "Epoch 62/200\n",
      "48/48 [==============================] - 0s 5ms/step - loss: 0.9582 - accuracy: 0.6089 - val_loss: 0.9395 - val_accuracy: 0.6280\n",
      "Epoch 63/200\n",
      "48/48 [==============================] - 0s 5ms/step - loss: 0.9580 - accuracy: 0.6016 - val_loss: 0.9389 - val_accuracy: 0.6280\n",
      "Epoch 64/200\n",
      "48/48 [==============================] - 0s 6ms/step - loss: 0.9571 - accuracy: 0.6011 - val_loss: 0.9385 - val_accuracy: 0.6280\n",
      "Epoch 65/200\n",
      "48/48 [==============================] - 0s 5ms/step - loss: 0.9569 - accuracy: 0.6011 - val_loss: 0.9386 - val_accuracy: 0.6280\n",
      "Epoch 66/200\n",
      "48/48 [==============================] - 0s 5ms/step - loss: 0.9571 - accuracy: 0.6068 - val_loss: 0.9373 - val_accuracy: 0.6280\n",
      "Epoch 67/200\n",
      "48/48 [==============================] - 0s 5ms/step - loss: 0.9563 - accuracy: 0.6043 - val_loss: 0.9377 - val_accuracy: 0.6280\n",
      "Epoch 68/200\n",
      "48/48 [==============================] - 0s 7ms/step - loss: 0.9560 - accuracy: 0.6011 - val_loss: 0.9377 - val_accuracy: 0.6280\n",
      "Epoch 69/200\n",
      "48/48 [==============================] - 0s 6ms/step - loss: 0.9559 - accuracy: 0.6110 - val_loss: 0.9372 - val_accuracy: 0.6280\n",
      "Epoch 70/200\n",
      "48/48 [==============================] - 1s 13ms/step - loss: 0.9558 - accuracy: 0.6020 - val_loss: 0.9385 - val_accuracy: 0.6440\n",
      "Epoch 71/200\n",
      "48/48 [==============================] - 1s 11ms/step - loss: 0.9550 - accuracy: 0.6018 - val_loss: 0.9364 - val_accuracy: 0.6280\n",
      "Epoch 72/200\n",
      "48/48 [==============================] - 0s 7ms/step - loss: 0.9549 - accuracy: 0.6011 - val_loss: 0.9365 - val_accuracy: 0.6280\n",
      "Epoch 73/200\n",
      "48/48 [==============================] - 0s 7ms/step - loss: 0.9548 - accuracy: 0.6011 - val_loss: 0.9359 - val_accuracy: 0.6280\n",
      "Epoch 74/200\n",
      "48/48 [==============================] - 0s 7ms/step - loss: 0.9543 - accuracy: 0.6074 - val_loss: 0.9366 - val_accuracy: 0.6280\n",
      "Epoch 75/200\n",
      "48/48 [==============================] - 0s 6ms/step - loss: 0.9550 - accuracy: 0.6011 - val_loss: 0.9360 - val_accuracy: 0.6280\n",
      "Epoch 76/200\n",
      "48/48 [==============================] - 0s 5ms/step - loss: 0.9537 - accuracy: 0.6125 - val_loss: 0.9370 - val_accuracy: 0.6280\n",
      "Epoch 77/200\n",
      "48/48 [==============================] - 0s 7ms/step - loss: 0.9543 - accuracy: 0.6011 - val_loss: 0.9359 - val_accuracy: 0.6280\n",
      "Epoch 78/200\n",
      "48/48 [==============================] - 0s 7ms/step - loss: 0.9534 - accuracy: 0.6022 - val_loss: 0.9361 - val_accuracy: 0.6499\n",
      "Epoch 79/200\n",
      "48/48 [==============================] - 0s 7ms/step - loss: 0.9534 - accuracy: 0.6137 - val_loss: 0.9357 - val_accuracy: 0.6280\n",
      "Epoch 80/200\n",
      "48/48 [==============================] - 0s 5ms/step - loss: 0.9535 - accuracy: 0.6049 - val_loss: 0.9359 - val_accuracy: 0.6280\n",
      "Epoch 81/200\n",
      "48/48 [==============================] - 0s 6ms/step - loss: 0.9533 - accuracy: 0.6026 - val_loss: 0.9351 - val_accuracy: 0.6280\n",
      "Epoch 82/200\n",
      "48/48 [==============================] - 0s 7ms/step - loss: 0.9526 - accuracy: 0.6011 - val_loss: 0.9345 - val_accuracy: 0.6280\n",
      "Epoch 83/200\n",
      "48/48 [==============================] - 0s 6ms/step - loss: 0.9522 - accuracy: 0.6011 - val_loss: 0.9348 - val_accuracy: 0.6280\n",
      "Epoch 84/200\n",
      "48/48 [==============================] - 0s 6ms/step - loss: 0.9525 - accuracy: 0.6013 - val_loss: 0.9350 - val_accuracy: 0.6499\n",
      "Epoch 85/200\n",
      "48/48 [==============================] - 0s 5ms/step - loss: 0.9521 - accuracy: 0.6079 - val_loss: 0.9344 - val_accuracy: 0.6280\n",
      "Epoch 86/200\n",
      "48/48 [==============================] - 0s 5ms/step - loss: 0.9518 - accuracy: 0.6058 - val_loss: 0.9340 - val_accuracy: 0.6280\n",
      "Epoch 87/200\n",
      "48/48 [==============================] - 0s 5ms/step - loss: 0.9524 - accuracy: 0.6011 - val_loss: 0.9339 - val_accuracy: 0.6280\n",
      "Epoch 88/200\n",
      "48/48 [==============================] - 0s 5ms/step - loss: 0.9517 - accuracy: 0.6011 - val_loss: 0.9339 - val_accuracy: 0.6280\n",
      "Epoch 89/200\n",
      "48/48 [==============================] - 0s 5ms/step - loss: 0.9513 - accuracy: 0.6016 - val_loss: 0.9340 - val_accuracy: 0.6280\n",
      "Epoch 90/200\n",
      "48/48 [==============================] - 0s 5ms/step - loss: 0.9514 - accuracy: 0.6039 - val_loss: 0.9356 - val_accuracy: 0.6516\n",
      "Epoch 91/200\n",
      "48/48 [==============================] - 0s 5ms/step - loss: 0.9505 - accuracy: 0.6255 - val_loss: 0.9328 - val_accuracy: 0.6280\n",
      "Epoch 92/200\n",
      "48/48 [==============================] - 0s 5ms/step - loss: 0.9510 - accuracy: 0.6030 - val_loss: 0.9333 - val_accuracy: 0.6280\n",
      "Epoch 93/200\n",
      "48/48 [==============================] - 0s 7ms/step - loss: 0.9507 - accuracy: 0.6047 - val_loss: 0.9344 - val_accuracy: 0.6516\n",
      "Epoch 94/200\n",
      "48/48 [==============================] - 0s 7ms/step - loss: 0.9507 - accuracy: 0.6102 - val_loss: 0.9336 - val_accuracy: 0.6322\n",
      "Epoch 95/200\n",
      "48/48 [==============================] - 0s 6ms/step - loss: 0.9500 - accuracy: 0.6013 - val_loss: 0.9329 - val_accuracy: 0.6280\n",
      "Epoch 96/200\n",
      "48/48 [==============================] - 0s 5ms/step - loss: 0.9497 - accuracy: 0.6011 - val_loss: 0.9333 - val_accuracy: 0.6280\n"
     ]
    },
    {
     "data": {
      "text/plain": [
       "<keras.src.callbacks.History at 0x1a1cb4ce6d0>"
      ]
     },
     "execution_count": 60,
     "metadata": {},
     "output_type": "execute_result"
    }
   ],
   "source": [
    "model.fit(X_train, y_train, epochs=200, validation_data=(X_test, y_test), batch_size=100, callbacks=[early_stopping])"
   ]
  },
  {
   "cell_type": "markdown",
   "metadata": {},
   "source": [
    "Đánh giá kết quả sau khi train.\\\n",
    "Nhìn chung RNN không dự đoán quá chính xác."
   ]
  },
  {
   "cell_type": "code",
   "execution_count": 61,
   "metadata": {},
   "outputs": [
    {
     "name": "stdout",
     "output_type": "stream",
     "text": [
      "38/38 [==============================] - 0s 3ms/step - loss: 0.9328 - accuracy: 0.6280\n",
      "Loss: 0.9328271150588989, Accuracy: 0.6280436515808105\n"
     ]
    }
   ],
   "source": [
    "loss, accuracy = model.evaluate(X_test, y_test)\n",
    "print(f'Loss: {loss}, Accuracy: {accuracy}')"
   ]
  },
  {
   "cell_type": "code",
   "execution_count": 62,
   "metadata": {},
   "outputs": [
    {
     "name": "stdout",
     "output_type": "stream",
     "text": [
      "38/38 [==============================] - 0s 3ms/step\n"
     ]
    },
    {
     "data": {
      "text/plain": [
       "array([3, 3, 3, ..., 3, 3, 3], dtype=int64)"
      ]
     },
     "execution_count": 62,
     "metadata": {},
     "output_type": "execute_result"
    }
   ],
   "source": [
    "y_pred = model.predict(X_test)\n",
    "y_pred = y_pred.argmax(axis=1)\n",
    "y_test = y_test.argmax(axis=1)\n",
    "y_pred"
   ]
  },
  {
   "cell_type": "code",
   "execution_count": 63,
   "metadata": {},
   "outputs": [
    {
     "name": "stdout",
     "output_type": "stream",
     "text": [
      "              precision    recall  f1-score   support\n",
      "\n",
      "           0       0.00      0.00      0.00       216\n",
      "           1       0.00      0.00      0.00        81\n",
      "           2       0.00      0.00      0.00       146\n",
      "           3       0.63      1.00      0.77       748\n",
      "\n",
      "    accuracy                           0.63      1191\n",
      "   macro avg       0.16      0.25      0.19      1191\n",
      "weighted avg       0.39      0.63      0.48      1191\n",
      "\n"
     ]
    }
   ],
   "source": [
    "print(classification_report(y_test, y_pred))"
   ]
  }
 ],
 "metadata": {
  "kernelspec": {
   "display_name": "Python 3",
   "language": "python",
   "name": "python3"
  },
  "language_info": {
   "codemirror_mode": {
    "name": "ipython",
    "version": 3
   },
   "file_extension": ".py",
   "mimetype": "text/x-python",
   "name": "python",
   "nbconvert_exporter": "python",
   "pygments_lexer": "ipython3",
   "version": "3.9.7"
  }
 },
 "nbformat": 4,
 "nbformat_minor": 2
}
